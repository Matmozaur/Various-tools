{
 "cells": [
  {
   "cell_type": "code",
   "execution_count": 1,
   "id": "705ea642",
   "metadata": {},
   "outputs": [],
   "source": [
    "import torch\n",
    "from torch import nn\n",
    "from torch.utils.data import DataLoader\n",
    "from torchvision import datasets\n",
    "from torchvision.transforms import ToTensor"
   ]
  },
  {
   "cell_type": "code",
   "execution_count": 2,
   "id": "7ce7f54c",
   "metadata": {},
   "outputs": [],
   "source": [
    "training_data = datasets.FashionMNIST(\n",
    "        root=\"data\",\n",
    "        train=True,\n",
    "        download=True,\n",
    "        transform=ToTensor(),\n",
    "    )\n",
    "\n",
    "test_data = datasets.FashionMNIST(\n",
    "    root=\"data\",\n",
    "    train=False,\n",
    "    download=True,\n",
    "    transform=ToTensor(),\n",
    ")"
   ]
  },
  {
   "cell_type": "code",
   "execution_count": 5,
   "id": "730fbb95",
   "metadata": {},
   "outputs": [],
   "source": [
    "# test_data.data"
   ]
  },
  {
   "cell_type": "code",
   "execution_count": 7,
   "id": "bab82f99",
   "metadata": {},
   "outputs": [
    {
     "name": "stdout",
     "output_type": "stream",
     "text": [
      "Shape of X [N, C, H, W]: torch.Size([64, 1, 28, 28])\n",
      "Shape of y: torch.Size([64]) torch.int64\n"
     ]
    }
   ],
   "source": [
    "batch_size = 64\n",
    "\n",
    "# Create data loaders.\n",
    "train_dataloader = DataLoader(training_data, batch_size=batch_size)\n",
    "test_dataloader = DataLoader(test_data, batch_size=batch_size)\n",
    "\n",
    "for X, y in test_dataloader:\n",
    "    print(f\"Shape of X [N, C, H, W]: {X.shape}\")\n",
    "    print(f\"Shape of y: {y.shape} {y.dtype}\")\n",
    "    break"
   ]
  },
  {
   "cell_type": "code",
   "execution_count": 9,
   "id": "b37d4b0d",
   "metadata": {},
   "outputs": [
    {
     "name": "stdout",
     "output_type": "stream",
     "text": [
      "Using cpu device\n"
     ]
    }
   ],
   "source": [
    "device = (\n",
    "        \"cuda\"\n",
    "        if torch.cuda.is_available()\n",
    "        else \"mps\"\n",
    "        if torch.backends.mps.is_available()\n",
    "        else \"cpu\"\n",
    "    )\n",
    "print(f\"Using {device} device\")"
   ]
  },
  {
   "cell_type": "code",
   "execution_count": 10,
   "id": "17ca67d4",
   "metadata": {},
   "outputs": [],
   "source": [
    "class NeuralNetwork(nn.Module):\n",
    "    def __init__(self):\n",
    "        super().__init__()\n",
    "        self.flatten = nn.Flatten()\n",
    "        self.linear_relu_stack = nn.Sequential(\n",
    "            nn.Linear(28 * 28, 512),\n",
    "            nn.ReLU(),\n",
    "            nn.Linear(512, 512),\n",
    "            nn.ReLU(),\n",
    "            nn.Linear(512, 10)\n",
    "        )\n",
    "\n",
    "    def forward(self, x):\n",
    "        x = self.flatten(x)\n",
    "        logits = self.linear_relu_stack(x)\n",
    "        return logits"
   ]
  },
  {
   "cell_type": "code",
   "execution_count": 11,
   "id": "1c670c99",
   "metadata": {},
   "outputs": [
    {
     "name": "stdout",
     "output_type": "stream",
     "text": [
      "NeuralNetwork(\n",
      "  (flatten): Flatten(start_dim=1, end_dim=-1)\n",
      "  (linear_relu_stack): Sequential(\n",
      "    (0): Linear(in_features=784, out_features=512, bias=True)\n",
      "    (1): ReLU()\n",
      "    (2): Linear(in_features=512, out_features=512, bias=True)\n",
      "    (3): ReLU()\n",
      "    (4): Linear(in_features=512, out_features=10, bias=True)\n",
      "  )\n",
      ")\n"
     ]
    }
   ],
   "source": [
    "model = NeuralNetwork().to(device)\n",
    "print(model)"
   ]
  },
  {
   "cell_type": "code",
   "execution_count": 12,
   "id": "74abe55f",
   "metadata": {},
   "outputs": [],
   "source": [
    "loss_fn = nn.CrossEntropyLoss()\n",
    "optimizer = torch.optim.SGD(model.parameters(), lr=1e-3)"
   ]
  },
  {
   "cell_type": "code",
   "execution_count": 13,
   "id": "417de556",
   "metadata": {},
   "outputs": [],
   "source": [
    "def train(dataloader, model, loss_fn, optimizer):\n",
    "    size = len(dataloader.dataset)\n",
    "    model.train()\n",
    "    for batch, (X, y) in enumerate(dataloader):\n",
    "        X, y = X.to(device), y.to(device)\n",
    "\n",
    "        # Compute prediction error\n",
    "        pred = model(X)\n",
    "        loss = loss_fn(pred, y)\n",
    "\n",
    "        # Backpropagation\n",
    "        loss.backward()\n",
    "        optimizer.step()\n",
    "        optimizer.zero_grad()\n",
    "\n",
    "        if batch % 100 == 0:\n",
    "            loss, current = loss.item(), (batch + 1) * len(X)\n",
    "            print(f\"loss: {loss:>7f}  [{current:>5d}/{size:>5d}]\")"
   ]
  },
  {
   "cell_type": "code",
   "execution_count": 14,
   "id": "c3142f60",
   "metadata": {},
   "outputs": [],
   "source": [
    "def test(dataloader, model, loss_fn):\n",
    "    size = len(dataloader.dataset)\n",
    "    num_batches = len(dataloader)\n",
    "    model.eval()\n",
    "    test_loss, correct = 0, 0\n",
    "    with torch.no_grad():\n",
    "        for X, y in dataloader:\n",
    "            X, y = X.to(device), y.to(device)\n",
    "            pred = model(X)\n",
    "            test_loss += loss_fn(pred, y).item()\n",
    "            correct += (pred.argmax(1) == y).type(torch.float).sum().item()\n",
    "    test_loss /= num_batches\n",
    "    correct /= size\n",
    "    print(f\"Test Error: \\n Accuracy: {(100*correct):>0.1f}%, Avg loss: {test_loss:>8f} \\n\")"
   ]
  },
  {
   "cell_type": "code",
   "execution_count": 15,
   "id": "3f2a679b",
   "metadata": {
    "scrolled": true
   },
   "outputs": [
    {
     "name": "stdout",
     "output_type": "stream",
     "text": [
      "Epoch 1\n",
      "-------------------------------\n",
      "loss: 2.301812  [   64/60000]\n",
      "loss: 2.293588  [ 6464/60000]\n",
      "loss: 2.268300  [12864/60000]\n",
      "loss: 2.259553  [19264/60000]\n",
      "loss: 2.257828  [25664/60000]\n",
      "loss: 2.210597  [32064/60000]\n",
      "loss: 2.223893  [38464/60000]\n",
      "loss: 2.189301  [44864/60000]\n",
      "loss: 2.180556  [51264/60000]\n",
      "loss: 2.147733  [57664/60000]\n",
      "Test Error: \n",
      " Accuracy: 38.0%, Avg loss: 2.146790 \n",
      "\n",
      "Epoch 2\n",
      "-------------------------------\n",
      "loss: 2.154466  [   64/60000]\n",
      "loss: 2.147896  [ 6464/60000]\n",
      "loss: 2.083788  [12864/60000]\n",
      "loss: 2.104181  [19264/60000]\n",
      "loss: 2.066761  [25664/60000]\n",
      "loss: 1.997069  [32064/60000]\n",
      "loss: 2.025197  [38464/60000]\n",
      "loss: 1.947370  [44864/60000]\n",
      "loss: 1.941643  [51264/60000]\n",
      "loss: 1.877571  [57664/60000]\n",
      "Test Error: \n",
      " Accuracy: 59.8%, Avg loss: 1.872537 \n",
      "\n",
      "Epoch 3\n",
      "-------------------------------\n",
      "loss: 1.898639  [   64/60000]\n",
      "loss: 1.869348  [ 6464/60000]\n",
      "loss: 1.745711  [12864/60000]\n",
      "loss: 1.794629  [19264/60000]\n",
      "loss: 1.698353  [25664/60000]\n",
      "loss: 1.641983  [32064/60000]\n",
      "loss: 1.661685  [38464/60000]\n",
      "loss: 1.568691  [44864/60000]\n",
      "loss: 1.580365  [51264/60000]\n",
      "loss: 1.481554  [57664/60000]\n",
      "Test Error: \n",
      " Accuracy: 63.3%, Avg loss: 1.497019 \n",
      "\n",
      "Epoch 4\n",
      "-------------------------------\n",
      "loss: 1.554437  [   64/60000]\n",
      "loss: 1.522130  [ 6464/60000]\n",
      "loss: 1.368704  [12864/60000]\n",
      "loss: 1.451661  [19264/60000]\n",
      "loss: 1.341032  [25664/60000]\n",
      "loss: 1.329486  [32064/60000]\n",
      "loss: 1.346838  [38464/60000]\n",
      "loss: 1.280111  [44864/60000]\n",
      "loss: 1.306115  [51264/60000]\n",
      "loss: 1.210040  [57664/60000]\n",
      "Test Error: \n",
      " Accuracy: 64.2%, Avg loss: 1.234087 \n",
      "\n",
      "Epoch 5\n",
      "-------------------------------\n",
      "loss: 1.299731  [   64/60000]\n",
      "loss: 1.286143  [ 6464/60000]\n",
      "loss: 1.121054  [12864/60000]\n",
      "loss: 1.234570  [19264/60000]\n",
      "loss: 1.118035  [25664/60000]\n",
      "loss: 1.134421  [32064/60000]\n",
      "loss: 1.159330  [38464/60000]\n",
      "loss: 1.106672  [44864/60000]\n",
      "loss: 1.137538  [51264/60000]\n",
      "loss: 1.055936  [57664/60000]\n",
      "Test Error: \n",
      " Accuracy: 65.1%, Avg loss: 1.075340 \n",
      "\n",
      "Epoch 6\n",
      "-------------------------------\n",
      "loss: 1.133335  [   64/60000]\n",
      "loss: 1.141709  [ 6464/60000]\n",
      "loss: 0.963076  [12864/60000]\n",
      "loss: 1.101449  [19264/60000]\n",
      "loss: 0.985815  [25664/60000]\n",
      "loss: 1.007642  [32064/60000]\n",
      "loss: 1.046491  [38464/60000]\n",
      "loss: 0.998096  [44864/60000]\n",
      "loss: 1.028144  [51264/60000]\n",
      "loss: 0.961578  [57664/60000]\n",
      "Test Error: \n",
      " Accuracy: 66.3%, Avg loss: 0.974233 \n",
      "\n",
      "Epoch 7\n",
      "-------------------------------\n",
      "loss: 1.018105  [   64/60000]\n",
      "loss: 1.048295  [ 6464/60000]\n",
      "loss: 0.855450  [12864/60000]\n",
      "loss: 1.013920  [19264/60000]\n",
      "loss: 0.903593  [25664/60000]\n",
      "loss: 0.918874  [32064/60000]\n",
      "loss: 0.973187  [38464/60000]\n",
      "loss: 0.927029  [44864/60000]\n",
      "loss: 0.952518  [51264/60000]\n",
      "loss: 0.898211  [57664/60000]\n",
      "Test Error: \n",
      " Accuracy: 67.6%, Avg loss: 0.905112 \n",
      "\n",
      "Epoch 8\n",
      "-------------------------------\n",
      "loss: 0.933019  [   64/60000]\n",
      "loss: 0.982429  [ 6464/60000]\n",
      "loss: 0.777859  [12864/60000]\n",
      "loss: 0.951579  [19264/60000]\n",
      "loss: 0.848491  [25664/60000]\n",
      "loss: 0.853656  [32064/60000]\n",
      "loss: 0.921687  [38464/60000]\n",
      "loss: 0.878411  [44864/60000]\n",
      "loss: 0.897365  [51264/60000]\n",
      "loss: 0.852193  [57664/60000]\n",
      "Test Error: \n",
      " Accuracy: 68.7%, Avg loss: 0.854913 \n",
      "\n",
      "Epoch 9\n",
      "-------------------------------\n",
      "loss: 0.867050  [   64/60000]\n",
      "loss: 0.932644  [ 6464/60000]\n",
      "loss: 0.719243  [12864/60000]\n",
      "loss: 0.904522  [19264/60000]\n",
      "loss: 0.808609  [25664/60000]\n",
      "loss: 0.804215  [32064/60000]\n",
      "loss: 0.882540  [38464/60000]\n",
      "loss: 0.843754  [44864/60000]\n",
      "loss: 0.855572  [51264/60000]\n",
      "loss: 0.816396  [57664/60000]\n",
      "Test Error: \n",
      " Accuracy: 69.6%, Avg loss: 0.816475 \n",
      "\n",
      "Epoch 10\n",
      "-------------------------------\n",
      "loss: 0.813748  [   64/60000]\n",
      "loss: 0.892347  [ 6464/60000]\n",
      "loss: 0.673159  [12864/60000]\n",
      "loss: 0.867460  [19264/60000]\n",
      "loss: 0.777689  [25664/60000]\n",
      "loss: 0.765919  [32064/60000]\n",
      "loss: 0.850566  [38464/60000]\n",
      "loss: 0.817716  [44864/60000]\n",
      "loss: 0.822513  [51264/60000]\n",
      "loss: 0.786981  [57664/60000]\n",
      "Test Error: \n",
      " Accuracy: 71.0%, Avg loss: 0.785567 \n",
      "\n",
      "Done!\n"
     ]
    }
   ],
   "source": [
    "epochs = 10\n",
    "for t in range(epochs):\n",
    "    print(f\"Epoch {t+1}\\n-------------------------------\")\n",
    "    train(train_dataloader, model, loss_fn, optimizer)\n",
    "    test(test_dataloader, model, loss_fn)\n",
    "print(\"Done!\")"
   ]
  },
  {
   "cell_type": "code",
   "execution_count": 20,
   "id": "05f5d8ac",
   "metadata": {},
   "outputs": [],
   "source": [
    "classes = [\n",
    "    \"T-shirt/top\",\n",
    "    \"Trouser\",\n",
    "    \"Pullover\",\n",
    "    \"Dress\",\n",
    "    \"Coat\",\n",
    "    \"Sandal\",\n",
    "    \"Shirt\",\n",
    "    \"Sneaker\",\n",
    "    \"Bag\",\n",
    "    \"Ankle boot\",\n",
    "]\n"
   ]
  },
  {
   "cell_type": "code",
   "execution_count": 24,
   "id": "6a2b3566",
   "metadata": {},
   "outputs": [
    {
     "name": "stdout",
     "output_type": "stream",
     "text": [
      "Predicted: \"Ankle boot\", Actual: \"Ankle boot\"\n",
      "Predicted: \"Pullover\", Actual: \"Pullover\"\n",
      "Predicted: \"Trouser\", Actual: \"Trouser\"\n",
      "Predicted: \"Trouser\", Actual: \"Trouser\"\n",
      "Predicted: \"Shirt\", Actual: \"Shirt\"\n",
      "Predicted: \"Trouser\", Actual: \"Trouser\"\n",
      "Predicted: \"Coat\", Actual: \"Coat\"\n",
      "Predicted: \"Coat\", Actual: \"Shirt\"\n",
      "Predicted: \"Sneaker\", Actual: \"Sandal\"\n",
      "Predicted: \"Sneaker\", Actual: \"Sneaker\"\n"
     ]
    }
   ],
   "source": [
    "for i in range(10):\n",
    "    x, y = test_data[i][0], test_data[i][1]\n",
    "    with torch.no_grad():\n",
    "        x = x.to(device)\n",
    "        pred = model(x)\n",
    "        predicted, actual = classes[pred[0].argmax(0)], classes[y]\n",
    "        print(f'Predicted: \"{predicted}\", Actual: \"{actual}\"')"
   ]
  },
  {
   "cell_type": "code",
   "execution_count": null,
   "id": "792674be",
   "metadata": {},
   "outputs": [],
   "source": []
  }
 ],
 "metadata": {
  "kernelspec": {
   "display_name": "Python-3.12",
   "language": "python",
   "name": "myenv"
  },
  "language_info": {
   "codemirror_mode": {
    "name": "ipython",
    "version": 3
   },
   "file_extension": ".py",
   "mimetype": "text/x-python",
   "name": "python",
   "nbconvert_exporter": "python",
   "pygments_lexer": "ipython3",
   "version": "3.10.12"
  }
 },
 "nbformat": 4,
 "nbformat_minor": 5
}
