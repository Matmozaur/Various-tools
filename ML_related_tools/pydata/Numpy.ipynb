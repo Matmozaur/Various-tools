{
 "cells": [
  {
   "cell_type": "markdown",
   "metadata": {},
   "source": [
    "# NumPy \n",
    "\n",
    "NumPy (or Numpy) is a Linear Algebra Library for Python, the reason it is so important for Data Science with Python is that almost all of the libraries in the PyData Ecosystem rely on NumPy as one of their main building blocks.\n",
    "\n",
    "Numpy is also incredibly fast, as it has bindings to C libraries. For more info on why you would want to use Arrays instead of lists, check out this great [StackOverflow post](http://stackoverflow.com/questions/993984/why-numpy-instead-of-python-lists)."
   ]
  },
  {
   "cell_type": "code",
   "execution_count": 2,
   "metadata": {},
   "outputs": [],
   "source": [
    "import numpy as np"
   ]
  },
  {
   "cell_type": "markdown",
   "metadata": {},
   "source": [
    "# Numpy Arrays\n"
   ]
  },
  {
   "cell_type": "markdown",
   "metadata": {},
   "source": [
    "Creating"
   ]
  },
  {
   "cell_type": "code",
   "execution_count": 51,
   "metadata": {},
   "outputs": [
    {
     "data": {
      "text/plain": [
       "array([1, 2, 3, 4])"
      ]
     },
     "execution_count": 51,
     "metadata": {},
     "output_type": "execute_result"
    }
   ],
   "source": [
    "#from list\n",
    "my_list = [1,2,3,4]\n",
    "np.array(my_list)"
   ]
  },
  {
   "cell_type": "code",
   "execution_count": 52,
   "metadata": {},
   "outputs": [
    {
     "data": {
      "text/plain": [
       "array([[1, 2, 3],\n",
       "       [4, 5, 6],\n",
       "       [7, 8, 9]])"
      ]
     },
     "execution_count": 52,
     "metadata": {},
     "output_type": "execute_result"
    }
   ],
   "source": [
    "#from lists\n",
    "my_matrix = [[1,2,3],[4,5,6],[7,8,9]]\n",
    "np.array(my_matrix)\n",
    "#if inconsistent number of entries it will be array of lists"
   ]
  },
  {
   "cell_type": "code",
   "execution_count": 53,
   "metadata": {},
   "outputs": [
    {
     "name": "stdout",
     "output_type": "stream",
     "text": [
      "[0 1 2 3 4 5 6 7 8 9]\n",
      "--------------------------------\n",
      "[0 2 4 6 8]\n"
     ]
    }
   ],
   "source": [
    "#range\n",
    "print(np.arange(0,10))\n",
    "print('--------------------------------')\n",
    "print(np.arange(0,10,2))"
   ]
  },
  {
   "cell_type": "code",
   "execution_count": 54,
   "metadata": {},
   "outputs": [
    {
     "name": "stdout",
     "output_type": "stream",
     "text": [
      "[[0. 0. 0. 0. 0.]\n",
      " [0. 0. 0. 0. 0.]\n",
      " [0. 0. 0. 0. 0.]\n",
      " [0. 0. 0. 0. 0.]\n",
      " [0. 0. 0. 0. 0.]]\n",
      "--------------------------------\n",
      "[1. 1.]\n"
     ]
    }
   ],
   "source": [
    "#zeros/ones\n",
    "print(np.zeros((5,5)))\n",
    "print('--------------------------------')\n",
    "print(np.ones(2))\n"
   ]
  },
  {
   "cell_type": "code",
   "execution_count": 55,
   "metadata": {},
   "outputs": [
    {
     "name": "stdout",
     "output_type": "stream",
     "text": [
      "[ 0.          0.20408163  0.40816327  0.6122449   0.81632653  1.02040816\n",
      "  1.2244898   1.42857143  1.63265306  1.83673469  2.04081633  2.24489796\n",
      "  2.44897959  2.65306122  2.85714286  3.06122449  3.26530612  3.46938776\n",
      "  3.67346939  3.87755102  4.08163265  4.28571429  4.48979592  4.69387755\n",
      "  4.89795918  5.10204082  5.30612245  5.51020408  5.71428571  5.91836735\n",
      "  6.12244898  6.32653061  6.53061224  6.73469388  6.93877551  7.14285714\n",
      "  7.34693878  7.55102041  7.75510204  7.95918367  8.16326531  8.36734694\n",
      "  8.57142857  8.7755102   8.97959184  9.18367347  9.3877551   9.59183673\n",
      "  9.79591837 10.        ]\n"
     ]
    }
   ],
   "source": [
    "#linspace \n",
    "#return evenly spaced numbers over a specified interval\n",
    "print(np.linspace(0,10,50))"
   ]
  },
  {
   "cell_type": "code",
   "execution_count": 56,
   "metadata": {},
   "outputs": [
    {
     "name": "stdout",
     "output_type": "stream",
     "text": [
      "[[1. 0. 0. 0. 0.]\n",
      " [0. 1. 0. 0. 0.]\n",
      " [0. 0. 1. 0. 0.]\n",
      " [0. 0. 0. 1. 0.]\n",
      " [0. 0. 0. 0. 1.]]\n"
     ]
    }
   ],
   "source": [
    "# eye \n",
    "#creates an identity matrix\n",
    "print(np.eye(5))"
   ]
  },
  {
   "cell_type": "markdown",
   "metadata": {},
   "source": [
    "random"
   ]
  },
  {
   "cell_type": "code",
   "execution_count": 57,
   "metadata": {},
   "outputs": [
    {
     "data": {
      "text/plain": [
       "array([[0.52522402, 0.20413072, 0.99638418, 0.26519768, 0.93037873],\n",
       "       [0.56534636, 0.11069037, 0.56687352, 0.41397466, 0.66688756],\n",
       "       [0.93504408, 0.09055471, 0.70838114, 0.65915986, 0.35125929],\n",
       "       [0.1257852 , 0.44827004, 0.68684164, 0.78806938, 0.17831926],\n",
       "       [0.18925868, 0.40078926, 0.5386693 , 0.74184371, 0.84397664]])"
      ]
     },
     "execution_count": 57,
     "metadata": {},
     "output_type": "execute_result"
    }
   ],
   "source": [
    "np.random.rand(5,5)"
   ]
  },
  {
   "cell_type": "code",
   "execution_count": 58,
   "metadata": {},
   "outputs": [
    {
     "name": "stdout",
     "output_type": "stream",
     "text": [
      "[[0.11981382 0.13235726 0.76908127 0.4728028  0.82681844]\n",
      " [0.33070102 0.86241421 0.26687602 0.48647207 0.34284141]\n",
      " [0.30129734 0.02405904 0.90970721 0.19704992 0.3263003 ]\n",
      " [0.54395827 0.16655474 0.56574699 0.97998851 0.49256578]\n",
      " [0.50809966 0.43201552 0.96238336 0.78268426 0.06419076]]\n",
      "--------------------------------\n",
      "[[ 1.89519527  0.84838872 -0.50906734 -1.55045323]\n",
      " [-0.58026591 -0.88664656 -2.24431516  0.44944112]\n",
      " [-1.89286182 -0.8985755   0.21785839  0.715131  ]\n",
      " [ 0.32812131  0.47709141  1.88321247 -0.48840989]]\n",
      "--------------------------------\n",
      "[[38 18]\n",
      " [82 62]\n",
      " [38 73]\n",
      " [14 77]\n",
      " [34 41]\n",
      " [95 45]\n",
      " [ 1  8]\n",
      " [91 11]\n",
      " [96 97]\n",
      " [58 50]]\n"
     ]
    }
   ],
   "source": [
    "# rand\n",
    "# create an array of the given shape and populate it with random samples from a uniform distribution over [0, 1).\n",
    "print(np.random.rand(5,5))\n",
    "print('--------------------------------')\n",
    "# randn\n",
    "# Return a sample (or samples) from the \"standard normal\" distribution. Unlike rand which is uniform:\n",
    "print(np.random.randn(4,4))\n",
    "print('--------------------------------')\n",
    "# randint\n",
    "# Return random integers from `low` (inclusive) to `high` (exclusive).\n",
    "print(np.random.randint(1,100,(10,2)))"
   ]
  },
  {
   "cell_type": "markdown",
   "metadata": {},
   "source": [
    "Build-in methods"
   ]
  },
  {
   "cell_type": "markdown",
   "metadata": {},
   "source": [
    "reshape"
   ]
  },
  {
   "cell_type": "code",
   "execution_count": 59,
   "metadata": {},
   "outputs": [
    {
     "name": "stdout",
     "output_type": "stream",
     "text": [
      "[ 0  1  2  3  4  5  6  7  8  9 10 11 12 13 14 15 16 17 18 19 20 21 22 23\n",
      " 24]\n",
      "--------------------------------\n",
      "[[ 0  1  2  3  4]\n",
      " [ 5  6  7  8  9]\n",
      " [10 11 12 13 14]\n",
      " [15 16 17 18 19]\n",
      " [20 21 22 23 24]]\n"
     ]
    }
   ],
   "source": [
    "arr = np.arange(25)\n",
    "print(arr)\n",
    "print('--------------------------------')\n",
    "print(arr.reshape(5,5))"
   ]
  },
  {
   "cell_type": "markdown",
   "metadata": {},
   "source": [
    "max,min,argmax,argmin"
   ]
  },
  {
   "cell_type": "code",
   "execution_count": 60,
   "metadata": {},
   "outputs": [
    {
     "name": "stdout",
     "output_type": "stream",
     "text": [
      "[26 31 14  9 49  7 30 42 39 43]\n",
      "--------------------------------\n",
      "49\n",
      "--------------------------------\n",
      "4\n",
      "--------------------------------\n",
      "7\n",
      "--------------------------------\n",
      "5\n"
     ]
    }
   ],
   "source": [
    "ranarr = np.random.randint(0,50,10)\n",
    "print(ranarr)\n",
    "print('--------------------------------')\n",
    "print(ranarr.max())\n",
    "print('--------------------------------')\n",
    "print(ranarr.argmax())\n",
    "print('--------------------------------')\n",
    "print(ranarr.min())\n",
    "print('--------------------------------')\n",
    "print(ranarr.argmin())"
   ]
  },
  {
   "cell_type": "markdown",
   "metadata": {},
   "source": [
    "shape,dtype,info"
   ]
  },
  {
   "cell_type": "code",
   "execution_count": 61,
   "metadata": {},
   "outputs": [
    {
     "name": "stdout",
     "output_type": "stream",
     "text": [
      "[26 31 14  9 49  7 30 42 39 43]\n",
      "--------------------------------\n",
      "(10,)\n",
      "--------------------------------\n",
      "[[26 31]\n",
      " [14  9]\n",
      " [49  7]\n",
      " [30 42]\n",
      " [39 43]]\n",
      "--------------------------------\n",
      "(5, 2)\n",
      "--------------------------------\n",
      "int64\n",
      "--------------------------------\n",
      "10\n"
     ]
    }
   ],
   "source": [
    "print(ranarr)\n",
    "print('--------------------------------')\n",
    "print(ranarr.shape)\n",
    "print('--------------------------------')\n",
    "print(ranarr.reshape(5,2))\n",
    "print('--------------------------------')\n",
    "print(ranarr.reshape(5,2).shape)\n",
    "print('--------------------------------')\n",
    "print(ranarr.dtype)\n",
    "print('--------------------------------')\n",
    "print(ranarr.size)"
   ]
  },
  {
   "cell_type": "markdown",
   "metadata": {},
   "source": [
    "data types"
   ]
  },
  {
   "cell_type": "code",
   "execution_count": 4,
   "metadata": {},
   "outputs": [
    {
     "name": "stdout",
     "output_type": "stream",
     "text": [
      "('<f8', (2,))\n",
      "<U16\n",
      "('John', [6., 7.])\n",
      "Grades of John are:  [6. 7.]\n",
      "Names are:  ['Sarah' 'John']\n"
     ]
    }
   ],
   "source": [
    "# A structured data type containing a 16-character string (in field ‘name’)  \n",
    "# and a sub-array of two 64-bit floating-point number (in field ‘grades’): \n",
    "  \n",
    "dt = np.dtype([('name', np.unicode_, 16), ('grades', np.float64, (2,))]) \n",
    "  \n",
    "# Data type of object with field grades \n",
    "print(dt['grades']) \n",
    "  \n",
    "# Data type of object with field name  \n",
    "print(dt['name']) \n",
    "\n",
    "# x is a structured array with names and marks of students. \n",
    "# Data type of name of the student is np.unicode_ and  \n",
    "# data type of marks is np.float(64) \n",
    "x = np.array([('Sarah', (8.0, 7.0)), ('John', (6.0, 7.0))], dtype=dt) \n",
    "  \n",
    "print(x[1]) \n",
    "print(\"Grades of John are: \",x[1]['grades']) \n",
    "print(\"Names are: \",x['name']) "
   ]
  },
  {
   "cell_type": "markdown",
   "metadata": {},
   "source": [
    "# Indexing and selection"
   ]
  },
  {
   "cell_type": "markdown",
   "metadata": {},
   "source": [
    "### indexing"
   ]
  },
  {
   "cell_type": "markdown",
   "metadata": {},
   "source": [
    "simple bracket indexing"
   ]
  },
  {
   "cell_type": "code",
   "execution_count": 5,
   "metadata": {},
   "outputs": [
    {
     "name": "stdout",
     "output_type": "stream",
     "text": [
      "[ 0  1  2  3  4  5  6  7  8  9 10]\n",
      "--------------------------------\n",
      "8\n",
      "--------------------------------\n",
      "[2 3]\n",
      "--------------------------------\n",
      "[0 1 2 3 4 5 6 7 8 9]\n",
      "--------------------------------\n",
      "[ 9 10]\n"
     ]
    }
   ],
   "source": [
    "arr = np.arange(0,11)\n",
    "print(arr[:])\n",
    "print('--------------------------------')\n",
    "print(arr[8])\n",
    "print('--------------------------------')\n",
    "print(arr[2:4]) #without last\n",
    "print('--------------------------------')\n",
    "print(arr[:-1])\n",
    "print('--------------------------------')\n",
    "print(arr[-2:])"
   ]
  },
  {
   "cell_type": "markdown",
   "metadata": {},
   "source": [
    "changing"
   ]
  },
  {
   "cell_type": "code",
   "execution_count": 63,
   "metadata": {},
   "outputs": [
    {
     "name": "stdout",
     "output_type": "stream",
     "text": [
      "[100 100 100 100 100   5   6   7   8   9  10]\n",
      "--------------------------------\n",
      "[100 100 100 100 100   5]\n",
      "--------------------------------\n",
      "[10 10 10 10 10 10  6  7  8  9 10]\n",
      "--------------------------------\n",
      "[10 10 10 10 10 10]\n",
      "--------------------------------\n",
      "[10 10 10 10 10 10  6  7  8  9 10]\n"
     ]
    }
   ],
   "source": [
    "arr = np.arange(0,11)\n",
    "arr[0:5]=100\n",
    "print(arr)\n",
    "print('--------------------------------')\n",
    "slice_of_arr = arr[0:6] #shallow reference\n",
    "print(slice_of_arr)\n",
    "print('--------------------------------')\n",
    "slice_of_arr[:]=10\n",
    "print(arr)\n",
    "print('--------------------------------')\n",
    "slice_of_arr_2 = arr[0:6].copy() #deep reference\n",
    "print(slice_of_arr_2)\n",
    "print('--------------------------------')\n",
    "slice_of_arr_2[:]=1000\n",
    "print(arr)"
   ]
  },
  {
   "cell_type": "code",
   "execution_count": 9,
   "metadata": {},
   "outputs": [
    {
     "name": "stdout",
     "output_type": "stream",
     "text": [
      "[[ 5 10 15]\n",
      " [20 25 30]\n",
      " [35 40 45]]\n",
      "--------------------------------\n",
      "[20 25 30]\n",
      "--------------------------------\n",
      "40\n",
      "--------------------------------\n",
      "[[10 15]\n",
      " [25 30]]\n",
      "--------------------------------\n",
      "[[35 40 45]\n",
      " [20 25 30]]\n",
      "--------------------------------\n",
      "[35 45]\n",
      "--------------------------------\n",
      "40\n"
     ]
    }
   ],
   "source": [
    "#2D\n",
    "arr_2d = np.array(([5,10,15],[20,25,30],[35,40,45]))\n",
    "print(arr_2d)\n",
    "print('--------------------------------')\n",
    "print(arr_2d[1])\n",
    "print('--------------------------------')\n",
    "print(arr_2d[2][1])\n",
    "print('--------------------------------')\n",
    "print(arr_2d[:2,1:]) #shape (2,2) from top right corner\n",
    "print('--------------------------------')\n",
    "print(arr_2d[[2,1]]) #allows in any ordr\n",
    "print('--------------------------------')\n",
    "print(arr_2d[[2],[0,2]]) #allows in any ordr\n",
    "print('--------------------------------')\n",
    "print(arr_2d[2,1]) #allows in any ordr"
   ]
  },
  {
   "cell_type": "markdown",
   "metadata": {},
   "source": [
    "### selecting"
   ]
  },
  {
   "cell_type": "code",
   "execution_count": 65,
   "metadata": {},
   "outputs": [
    {
     "name": "stdout",
     "output_type": "stream",
     "text": [
      "[ 1  2  3  4  5  6  7  8  9 10]\n",
      "--------------------------------\n",
      "[False False False False  True  True  True  True  True  True]\n",
      "--------------------------------\n",
      "[ 5  6  7  8  9 10]\n",
      "--------------------------------\n",
      "[ 5  6  7  8  9 10]\n"
     ]
    }
   ],
   "source": [
    "arr = np.arange(1,11)\n",
    "print(arr)\n",
    "print('--------------------------------')\n",
    "print(arr > 4)\n",
    "print('--------------------------------')\n",
    "bool_arr = arr>4\n",
    "print(arr[bool_arr])\n",
    "print('--------------------------------')\n",
    "print(arr[arr>4])"
   ]
  },
  {
   "cell_type": "code",
   "execution_count": null,
   "metadata": {},
   "outputs": [],
   "source": []
  },
  {
   "cell_type": "code",
   "execution_count": null,
   "metadata": {},
   "outputs": [],
   "source": []
  },
  {
   "cell_type": "markdown",
   "metadata": {},
   "source": [
    "### iterating"
   ]
  },
  {
   "cell_type": "code",
   "execution_count": 18,
   "metadata": {},
   "outputs": [
    {
     "name": "stdout",
     "output_type": "stream",
     "text": [
      "Original array is:\n",
      "[[ 0  1  2  3]\n",
      " [ 4  5  6  7]\n",
      " [ 8  9 10 11]]\n",
      "\n",
      "Modified array is:\n",
      "[[ 0  5 10 15]\n",
      " [20 25 30 35]\n",
      " [40 45 50 55]]\n"
     ]
    }
   ],
   "source": [
    "# creating an array using arrange \n",
    "# method\n",
    "a = np.arange(12)\n",
    " \n",
    "# shape array with 3 rows and \n",
    "# 4 columns \n",
    "a = a.reshape(3,4)\n",
    "print('Original array is:')\n",
    "print(a)\n",
    "print()\n",
    " \n",
    "# modifying array values\n",
    "for x in np.nditer(a, op_flags = ['readwrite']): #without flag Valuererror\n",
    "    x[...] = 5*x\n",
    "print('Modified array is:')\n",
    "print(a)"
   ]
  },
  {
   "cell_type": "markdown",
   "metadata": {},
   "source": [
    "### Sort"
   ]
  },
  {
   "cell_type": "code",
   "execution_count": 28,
   "metadata": {},
   "outputs": [
    {
     "name": "stdout",
     "output_type": "stream",
     "text": [
      "Along first axis : \n",
      " [[10  1]\n",
      " [12 15]]\n",
      "\n",
      "Along first axis : \n",
      " [[10 15]\n",
      " [ 1 12]]\n",
      "\n",
      "Along none axis : \n",
      " [ 1 10 12 15]\n"
     ]
    }
   ],
   "source": [
    "# sort along the first axis\n",
    "a = np.array([[12, 15], [10, 1]])\n",
    "arr1 = np.sort(a, axis = 0)        \n",
    "print (\"Along first axis : \\n\", arr1)        \n",
    " \n",
    " \n",
    "# sort along the last axis\n",
    "a = np.array([[10, 15], [12, 1]])\n",
    "arr2 = np.sort(a, axis = -1)        \n",
    "print (\"\\nAlong first axis : \\n\", arr2)\n",
    " \n",
    " \n",
    "a = np.array([[12, 15], [10, 1]])\n",
    "arr1 = np.sort(a, axis = None)        \n",
    "print (\"\\nAlong none axis : \\n\", arr1)"
   ]
  },
  {
   "cell_type": "code",
   "execution_count": null,
   "metadata": {},
   "outputs": [],
   "source": []
  },
  {
   "cell_type": "code",
   "execution_count": null,
   "metadata": {},
   "outputs": [],
   "source": []
  },
  {
   "cell_type": "markdown",
   "metadata": {},
   "source": [
    "# Operations"
   ]
  },
  {
   "cell_type": "markdown",
   "metadata": {},
   "source": [
    "basic"
   ]
  },
  {
   "cell_type": "code",
   "execution_count": 66,
   "metadata": {},
   "outputs": [
    {
     "name": "stdout",
     "output_type": "stream",
     "text": [
      "[ 0  2  4  6  8 10 12 14 16 18]\n",
      "--------------------------------\n",
      "[ 0  1  4  9 16 25 36 49 64 81]\n",
      "--------------------------------\n",
      "[0 0 0 0 0 0 0 0 0 0]\n",
      "--------------------------------\n",
      "[nan  1.  1.  1.  1.  1.  1.  1.  1.  1.]\n",
      "--------------------------------\n",
      "[       inf 1.         0.5        0.33333333 0.25       0.2\n",
      " 0.16666667 0.14285714 0.125      0.11111111]\n",
      "--------------------------------\n",
      "[  0   1   8  27  64 125 216 343 512 729]\n"
     ]
    },
    {
     "name": "stderr",
     "output_type": "stream",
     "text": [
      "/usr/lib/python3/dist-packages/ipykernel_launcher.py:8: RuntimeWarning: invalid value encountered in true_divide\n",
      "  \n",
      "/usr/lib/python3/dist-packages/ipykernel_launcher.py:10: RuntimeWarning: divide by zero encountered in true_divide\n",
      "  # Remove the CWD from sys.path while we load stuff.\n"
     ]
    }
   ],
   "source": [
    "arr = np.arange(0,10)\n",
    "print(arr + arr)\n",
    "print('--------------------------------')\n",
    "print(arr * arr)\n",
    "print('--------------------------------')\n",
    "print(arr - arr)\n",
    "print('--------------------------------')\n",
    "print(arr/arr)\n",
    "print('--------------------------------')\n",
    "print(1/arr)\n",
    "print('--------------------------------')\n",
    "print(arr**3)"
   ]
  },
  {
   "cell_type": "markdown",
   "metadata": {},
   "source": [
    "numpay's"
   ]
  },
  {
   "cell_type": "code",
   "execution_count": 67,
   "metadata": {},
   "outputs": [
    {
     "name": "stdout",
     "output_type": "stream",
     "text": [
      "[0.         1.         1.41421356 1.73205081 2.         2.23606798\n",
      " 2.44948974 2.64575131 2.82842712 3.        ]\n",
      "--------------------------------\n",
      "[1.00000000e+00 2.71828183e+00 7.38905610e+00 2.00855369e+01\n",
      " 5.45981500e+01 1.48413159e+02 4.03428793e+02 1.09663316e+03\n",
      " 2.98095799e+03 8.10308393e+03]\n",
      "--------------------------------\n",
      "9\n",
      "--------------------------------\n",
      "[0.         1.         1.41421356 1.73205081 2.         2.23606798\n",
      " 2.44948974 2.64575131 2.82842712 3.        ]\n",
      "--------------------------------\n",
      "[      -inf 0.         0.69314718 1.09861229 1.38629436 1.60943791\n",
      " 1.79175947 1.94591015 2.07944154 2.19722458]\n",
      "--------------------------------\n",
      "[ 0.          0.84147098  0.90929743  0.14112001 -0.7568025  -0.95892427\n",
      " -0.2794155   0.6569866   0.98935825  0.41211849]\n"
     ]
    },
    {
     "name": "stderr",
     "output_type": "stream",
     "text": [
      "/usr/lib/python3/dist-packages/ipykernel_launcher.py:9: RuntimeWarning: divide by zero encountered in log\n",
      "  if __name__ == '__main__':\n"
     ]
    }
   ],
   "source": [
    "print(np.sqrt(arr))\n",
    "print('--------------------------------')\n",
    "print(np.exp(arr))\n",
    "print('--------------------------------')\n",
    "print(np.max(arr))\n",
    "print('--------------------------------')\n",
    "print(np.sqrt(arr))\n",
    "print('--------------------------------')\n",
    "print(np.log(arr))\n",
    "print('--------------------------------')\n",
    "print(np.sin(arr))"
   ]
  },
  {
   "cell_type": "markdown",
   "metadata": {},
   "source": [
    "matrix"
   ]
  },
  {
   "cell_type": "code",
   "execution_count": 11,
   "metadata": {},
   "outputs": [
    {
     "name": "stdout",
     "output_type": "stream",
     "text": [
      "[[ 750  900 1050]\n",
      " [1650 2025 2400]\n",
      " [2550 3150 3750]]\n",
      "--------------------------------\n",
      "[[ 750  900 1050]\n",
      " [1650 2025 2400]\n",
      " [2550 3150 3750]]\n",
      "--------------------------------\n",
      "[[ 5 20 35]\n",
      " [10 25 40]\n",
      " [15 30 45]]\n",
      "--------------------------------\n",
      "84.40971508067067\n",
      "--------------------------------\n",
      "[[ 58500  72000  85500]\n",
      " [132750 163125 193500]\n",
      " [207000 254250 301500]]\n",
      "--------------------------------\n"
     ]
    }
   ],
   "source": [
    "arr_2d = np.array(([5,10,15],\n",
    "                   [20,25,30],\n",
    "                   [35,40,45]))\n",
    "print(np.matmul(arr_2d,arr_2d))\n",
    "print('--------------------------------')\n",
    "print(np.dot(arr_2d,arr_2d)) #same, less options\n",
    "print('--------------------------------')\n",
    "print(np.transpose(arr_2d))\n",
    "print('--------------------------------')\n",
    "print(np.linalg.norm(arr_2d))\n",
    "print('--------------------------------')\n",
    "print(np.linalg.matrix_power(arr_2d, 3))\n",
    "print('--------------------------------')"
   ]
  },
  {
   "cell_type": "code",
   "execution_count": null,
   "metadata": {},
   "outputs": [],
   "source": []
  },
  {
   "cell_type": "code",
   "execution_count": null,
   "metadata": {},
   "outputs": [],
   "source": []
  },
  {
   "cell_type": "markdown",
   "metadata": {},
   "source": [
    "# Examples"
   ]
  },
  {
   "cell_type": "markdown",
   "metadata": {},
   "source": [
    "From the array a, replace all values greater than 30 to 30 and less than 10 to 10."
   ]
  },
  {
   "cell_type": "code",
   "execution_count": 27,
   "metadata": {},
   "outputs": [
    {
     "name": "stdout",
     "output_type": "stream",
     "text": [
      "[[27.63 14.64 21.8  42.39  1.23  6.96 33.87 41.47  7.7  29.18 44.67 11.25\n",
      "  10.08  6.31 11.77 48.95 40.77  9.43 41.   14.43]\n",
      " [22.15 47.06 41.06 17.47  9.6  19.27  1.28 13.37 39.99  1.75 30.34 30.59\n",
      "   6.15 19.72  2.79 44.63 49.07  3.94 44.64 29.27]]\n",
      "-----------------------\n",
      "[[27.63 14.64 21.8  30.   10.   10.   30.   30.   10.   29.18 30.   11.25\n",
      "  10.08 10.   11.77 30.   30.   10.   30.   14.43]\n",
      " [22.15 30.   30.   17.47 10.   19.27 10.   13.37 30.   10.   30.   30.\n",
      "  10.   19.72 10.   30.   30.   10.   30.   29.27]]\n",
      "-----------------------\n",
      "[[27.63 14.64 21.8  30.   10.   10.   30.   30.   10.   29.18 30.   11.25\n",
      "  10.08 10.   11.77 30.   30.   10.   30.   14.43]\n",
      " [22.15 30.   30.   17.47 10.   19.27 10.   13.37 30.   10.   30.   30.\n",
      "  10.   19.72 10.   30.   30.   10.   30.   29.27]]\n",
      "-----------------------\n",
      "[[27.63 14.64 21.8  30.   10.   10.   30.   30.   10.   29.18 30.   11.25\n",
      "  10.08 10.   11.77 30.   30.   10.   30.   14.43]\n",
      " [22.15 30.   30.   17.47 10.   19.27 10.   13.37 30.   10.   30.   30.\n",
      "  10.   19.72 10.   30.   30.   10.   30.   29.27]]\n"
     ]
    }
   ],
   "source": [
    "# Input\n",
    "np.set_printoptions(precision=2)\n",
    "np.random.seed(100)\n",
    "a = np.random.uniform(1,50, (2,20))\n",
    "print(a)\n",
    "print('-----------------------')\n",
    "# Solution 1: Using np.clip\n",
    "print(np.clip(a, a_min=10, a_max=30))\n",
    "print('-----------------------')\n",
    "# Solution 2: Using np.where\n",
    "print(np.where(a < 10, 10, np.where(a > 30, 30, a)))\n",
    "print('-----------------------')\n",
    "# Solution 3:\n",
    "a[a>30] = 30\n",
    "a[a<10] = 10\n",
    "print(a)"
   ]
  },
  {
   "cell_type": "code",
   "execution_count": null,
   "metadata": {},
   "outputs": [],
   "source": []
  }
 ],
 "metadata": {
  "kernelspec": {
   "display_name": "Python 3",
   "language": "python",
   "name": "python3"
  },
  "language_info": {
   "codemirror_mode": {
    "name": "ipython",
    "version": 3
   },
   "file_extension": ".py",
   "mimetype": "text/x-python",
   "name": "python",
   "nbconvert_exporter": "python",
   "pygments_lexer": "ipython3",
   "version": "3.6.9"
  }
 },
 "nbformat": 4,
 "nbformat_minor": 2
}
