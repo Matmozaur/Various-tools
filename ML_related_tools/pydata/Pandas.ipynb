{
 "cells": [
  {
   "cell_type": "markdown",
   "metadata": {},
   "source": [
    "# Pandas"
   ]
  },
  {
   "cell_type": "code",
   "execution_count": 1,
   "metadata": {},
   "outputs": [],
   "source": [
    "import numpy as np\n",
    "import pandas as pd\n",
    "from numpy.random import randn\n",
    "np.random.seed(101)"
   ]
  },
  {
   "cell_type": "markdown",
   "metadata": {},
   "source": [
    "# Series"
   ]
  },
  {
   "cell_type": "markdown",
   "metadata": {},
   "source": [
    "creating"
   ]
  },
  {
   "cell_type": "code",
   "execution_count": 2,
   "metadata": {},
   "outputs": [
    {
     "name": "stdout",
     "output_type": "stream",
     "text": [
      "0    10\n",
      "1    20\n",
      "2    30\n",
      "dtype: int64\n",
      "--------------------------------\n",
      "a    10\n",
      "b    20\n",
      "c    30\n",
      "dtype: int64\n",
      "--------------------------------\n",
      "0    10\n",
      "1    20\n",
      "2    30\n",
      "dtype: int64\n",
      "--------------------------------\n",
      "a    10\n",
      "b    20\n",
      "c    30\n",
      "dtype: int64\n"
     ]
    }
   ],
   "source": [
    "labels = ['a','b','c']\n",
    "my_list = [10,20,30]\n",
    "arr = np.array([10,20,30])\n",
    "d = {'a':10,'b':20,'c':30}\n",
    "\n",
    "print(pd.Series(data=my_list))\n",
    "print('--------------------------------')\n",
    "print(pd.Series(data=my_list,index=labels))\n",
    "print('--------------------------------')\n",
    "print(pd.Series(pd.Series(arr)))\n",
    "print('--------------------------------')\n",
    "print(pd.Series(d))"
   ]
  },
  {
   "cell_type": "code",
   "execution_count": 3,
   "metadata": {},
   "outputs": [
    {
     "name": "stdout",
     "output_type": "stream",
     "text": [
      "0    a\n",
      "1    b\n",
      "2    c\n",
      "dtype: object\n",
      "--------------------------------\n",
      "0      <built-in function sum>\n",
      "1    <built-in function print>\n",
      "2      <built-in function len>\n",
      "dtype: object\n"
     ]
    }
   ],
   "source": [
    "#series can hold any object type\n",
    "print(pd.Series(data=labels))\n",
    "print('--------------------------------')\n",
    "print(pd.Series([sum,print,len])) #Even functions "
   ]
  },
  {
   "cell_type": "markdown",
   "metadata": {},
   "source": [
    "using an index"
   ]
  },
  {
   "cell_type": "code",
   "execution_count": 4,
   "metadata": {},
   "outputs": [
    {
     "name": "stdout",
     "output_type": "stream",
     "text": [
      "1\n",
      "--------------------------------\n",
      "Germany    4.0\n",
      "Italy      NaN\n",
      "Japan      8.0\n",
      "USA        2.0\n",
      "USSR       NaN\n",
      "dtype: float64\n"
     ]
    }
   ],
   "source": [
    "ser1 = pd.Series([1,2,3,4],index = ['USA', 'Germany','USSR', 'Japan'])                                   \n",
    "ser2 = pd.Series([1,2,5,4],index = ['USA', 'Germany','Italy', 'Japan'])       \n",
    "print(ser1['USA'])\n",
    "print('--------------------------------')\n",
    "print(ser1+ser2)"
   ]
  },
  {
   "cell_type": "markdown",
   "metadata": {},
   "source": [
    "# DataFrames"
   ]
  },
  {
   "cell_type": "markdown",
   "metadata": {},
   "source": [
    "creating"
   ]
  },
  {
   "cell_type": "code",
   "execution_count": 5,
   "metadata": {},
   "outputs": [
    {
     "name": "stdout",
     "output_type": "stream",
     "text": [
      "          W         X         Y         Z\n",
      "A  2.706850  0.628133  0.907969  0.503826\n",
      "B  0.651118 -0.319318 -0.848077  0.605965\n",
      "C -2.018168  0.740122  0.528813 -0.589001\n",
      "D  0.188695 -0.758872 -0.933237  0.955057\n",
      "E  0.190794  1.978757  2.605967  0.683509\n"
     ]
    }
   ],
   "source": [
    "df = pd.DataFrame(randn(5,4),index='A B C D E'.split(),columns='W X Y Z'.split())\n",
    "print(df)"
   ]
  },
  {
   "cell_type": "markdown",
   "metadata": {},
   "source": [
    "selecting"
   ]
  },
  {
   "cell_type": "code",
   "execution_count": 6,
   "metadata": {},
   "outputs": [
    {
     "name": "stdout",
     "output_type": "stream",
     "text": [
      "A    2.706850\n",
      "B    0.651118\n",
      "C   -2.018168\n",
      "D    0.188695\n",
      "E    0.190794\n",
      "Name: W, dtype: float64\n",
      "--------------------------------\n",
      "          W         Z\n",
      "A  2.706850  0.503826\n",
      "B  0.651118  0.605965\n",
      "C -2.018168 -0.589001\n",
      "D  0.188695  0.955057\n",
      "E  0.190794  0.683509\n",
      "--------------------------------\n",
      "A    2.706850\n",
      "B    0.651118\n",
      "C   -2.018168\n",
      "D    0.188695\n",
      "E    0.190794\n",
      "Name: W, dtype: float64\n",
      "--------------------------------\n",
      "<class 'pandas.core.series.Series'>\n"
     ]
    }
   ],
   "source": [
    "print(df['W'])\n",
    "print('--------------------------------')\n",
    "print(df[['W','Z']])\n",
    "print('--------------------------------')\n",
    "print(df.W) # SQL Syntax (NOT RECOMMENDED!)\n",
    "print('--------------------------------')\n",
    "print(type(df['W'])) #DataFrame Columns are just Series"
   ]
  },
  {
   "cell_type": "code",
   "execution_count": 7,
   "metadata": {},
   "outputs": [
    {
     "name": "stdout",
     "output_type": "stream",
     "text": [
      "          W         X         Y         Z       new\n",
      "A  2.706850  0.628133  0.907969  0.503826  3.614819\n",
      "B  0.651118 -0.319318 -0.848077  0.605965 -0.196959\n",
      "C -2.018168  0.740122  0.528813 -0.589001 -1.489355\n",
      "D  0.188695 -0.758872 -0.933237  0.955057 -0.744542\n",
      "E  0.190794  1.978757  2.605967  0.683509  2.796762\n",
      "--------------------------------\n",
      "          W         X         Y         Z\n",
      "A  2.706850  0.628133  0.907969  0.503826\n",
      "B  0.651118 -0.319318 -0.848077  0.605965\n",
      "C -2.018168  0.740122  0.528813 -0.589001\n",
      "D  0.188695 -0.758872 -0.933237  0.955057\n",
      "E  0.190794  1.978757  2.605967  0.683509\n",
      "--------------------------------\n",
      "          X         Y         Z\n",
      "A  0.628133  0.907969  0.503826\n",
      "B -0.319318 -0.848077  0.605965\n",
      "C  0.740122  0.528813 -0.589001\n",
      "D -0.758872 -0.933237  0.955057\n",
      "E  1.978757  2.605967  0.683509\n",
      "--------------------------------\n",
      "          W         X         Y         Z       new\n",
      "A  2.706850  0.628133  0.907969  0.503826  3.614819\n",
      "B  0.651118 -0.319318 -0.848077  0.605965 -0.196959\n",
      "C -2.018168  0.740122  0.528813 -0.589001 -1.489355\n",
      "D  0.188695 -0.758872 -0.933237  0.955057 -0.744542\n"
     ]
    }
   ],
   "source": [
    "df['new'] = df['W'] + df['Y']\n",
    "print(df)\n",
    "print('--------------------------------')\n",
    "print(df.drop('new',axis=1)) #returning dataframe without columns, not changing base df\n",
    "print('--------------------------------')\n",
    "print(df.drop(['new','W'],axis=1))\n",
    "print('--------------------------------')\n",
    "print(df.drop('E',axis=0))\n"
   ]
  },
  {
   "cell_type": "code",
   "execution_count": 8,
   "metadata": {},
   "outputs": [
    {
     "name": "stdout",
     "output_type": "stream",
     "text": [
      "W      2.706850\n",
      "X      0.628133\n",
      "Y      0.907969\n",
      "Z      0.503826\n",
      "new    3.614819\n",
      "Name: A, dtype: float64\n",
      "--------------------------------\n",
      "W     -2.018168\n",
      "X      0.740122\n",
      "Y      0.528813\n",
      "Z     -0.589001\n",
      "new   -1.489355\n",
      "Name: C, dtype: float64\n",
      "--------------------------------\n",
      "A    0.628133\n",
      "B   -0.319318\n",
      "C    0.740122\n",
      "D   -0.758872\n",
      "E    1.978757\n",
      "Name: X, dtype: float64\n",
      "--------------------------------\n",
      "          W         Y\n",
      "A  2.706850  0.907969\n",
      "B  0.651118 -0.848077\n"
     ]
    }
   ],
   "source": [
    "print(df.loc['A']) #returning reference \n",
    "print('--------------------------------')\n",
    "print(df.iloc[2]) \n",
    "print('--------------------------------')\n",
    "print(df.loc[:,'X'])\n",
    "print('--------------------------------')\n",
    "print(df.loc[['A','B'],['W','Y']])"
   ]
  },
  {
   "cell_type": "code",
   "execution_count": 9,
   "metadata": {},
   "outputs": [
    {
     "name": "stdout",
     "output_type": "stream",
     "text": [
      "          W         X         Y         Z       new\n",
      "A  2.706850  0.628133  0.907969  0.503826  3.614819\n",
      "B  0.651118       NaN       NaN  0.605965       NaN\n",
      "C       NaN  0.740122  0.528813       NaN       NaN\n",
      "D  0.188695       NaN       NaN  0.955057       NaN\n",
      "E  0.190794  1.978757  2.605967  0.683509  2.796762\n",
      "--------------------------------\n",
      "          W         X         Y         Z       new\n",
      "A  2.706850  0.628133  0.907969  0.503826  3.614819\n",
      "B  0.651118 -0.319318 -0.848077  0.605965 -0.196959\n",
      "D  0.188695 -0.758872 -0.933237  0.955057 -0.744542\n",
      "E  0.190794  1.978757  2.605967  0.683509  2.796762\n",
      "--------------------------------\n",
      "          Y         X\n",
      "A  0.907969  0.628133\n",
      "B -0.848077 -0.319318\n",
      "D -0.933237 -0.758872\n",
      "E  2.605967  1.978757\n",
      "--------------------------------\n",
      "Empty DataFrame\n",
      "Columns: [W, X, Y, Z, new]\n",
      "Index: []\n"
     ]
    }
   ],
   "source": [
    "print(df[df>0])\n",
    "print('--------------------------------')\n",
    "print(df[df['W']>0])\n",
    "print('--------------------------------')\n",
    "print(df[df['W']>0][['Y','X']])\n",
    "print('--------------------------------')\n",
    "print(df[(df['Y']>0) & (df['Z'] > 1)])"
   ]
  },
  {
   "cell_type": "markdown",
   "metadata": {},
   "source": [
    "index details"
   ]
  },
  {
   "cell_type": "code",
   "execution_count": 10,
   "metadata": {},
   "outputs": [
    {
     "name": "stdout",
     "output_type": "stream",
     "text": [
      "  index         W         X         Y         Z       new\n",
      "0     A  2.706850  0.628133  0.907969  0.503826  3.614819\n",
      "1     B  0.651118 -0.319318 -0.848077  0.605965 -0.196959\n",
      "2     C -2.018168  0.740122  0.528813 -0.589001 -1.489355\n",
      "3     D  0.188695 -0.758872 -0.933237  0.955057 -0.744542\n",
      "4     E  0.190794  1.978757  2.605967  0.683509  2.796762\n",
      "--------------------------------\n",
      "               W         X         Y         Z       new\n",
      "States                                                  \n",
      "CA      2.706850  0.628133  0.907969  0.503826  3.614819\n",
      "NY      0.651118 -0.319318 -0.848077  0.605965 -0.196959\n",
      "WY     -2.018168  0.740122  0.528813 -0.589001 -1.489355\n",
      "OR      0.188695 -0.758872 -0.933237  0.955057 -0.744542\n",
      "CO      0.190794  1.978757  2.605967  0.683509  2.796762\n",
      "--------------------------------\n",
      "          W         X         Y         Z       new States\n",
      "A  2.706850  0.628133  0.907969  0.503826  3.614819     CA\n",
      "B  0.651118 -0.319318 -0.848077  0.605965 -0.196959     NY\n",
      "C -2.018168  0.740122  0.528813 -0.589001 -1.489355     WY\n",
      "D  0.188695 -0.758872 -0.933237  0.955057 -0.744542     OR\n",
      "E  0.190794  1.978757  2.605967  0.683509  2.796762     CO\n",
      "--------------------------------\n",
      "None\n",
      "--------------------------------\n",
      "               W         X         Y         Z       new\n",
      "States                                                  \n",
      "CA      2.706850  0.628133  0.907969  0.503826  3.614819\n",
      "NY      0.651118 -0.319318 -0.848077  0.605965 -0.196959\n",
      "WY     -2.018168  0.740122  0.528813 -0.589001 -1.489355\n",
      "OR      0.188695 -0.758872 -0.933237  0.955057 -0.744542\n",
      "CO      0.190794  1.978757  2.605967  0.683509  2.796762\n",
      "--------------------------------\n"
     ]
    }
   ],
   "source": [
    "print(df.reset_index())\n",
    "print('--------------------------------')\n",
    "newind = 'CA NY WY OR CO'.split()\n",
    "df['States'] = newind\n",
    "print(df.set_index('States')) #not changes orginal df\n",
    "print('--------------------------------')\n",
    "print(df)\n",
    "print('--------------------------------')\n",
    "print(df.set_index('States',inplace=True))\n",
    "print('--------------------------------')\n",
    "print(df)\n",
    "print('--------------------------------')"
   ]
  },
  {
   "cell_type": "code",
   "execution_count": 11,
   "metadata": {},
   "outputs": [
    {
     "name": "stdout",
     "output_type": "stream",
     "text": [
      "[('G1', 1), ('G1', 2), ('G1', 3), ('G2', 1), ('G2', 2), ('G2', 3)]\n",
      "--------------------------------\n",
      "MultiIndex(levels=[['G1', 'G2'], [1, 2, 3]],\n",
      "           labels=[[0, 0, 0, 1, 1, 1], [0, 1, 2, 0, 1, 2]])\n",
      "--------------------------------\n",
      "             A         B\n",
      "G1 1  0.302665  1.693723\n",
      "   2 -1.706086 -1.159119\n",
      "   3 -0.134841  0.390528\n",
      "G2 1  0.166905  0.184502\n",
      "   2  0.807706  0.072960\n",
      "   3  0.638787  0.329646\n",
      "--------------------------------\n",
      "          A         B\n",
      "1  0.302665  1.693723\n",
      "2 -1.706086 -1.159119\n",
      "3 -0.134841  0.390528\n",
      "--------------------------------\n",
      "A    0.302665\n",
      "B    1.693723\n",
      "Name: 1, dtype: float64\n",
      "--------------------------------\n",
      "                  A         B\n",
      "Group Num                    \n",
      "G1    1    0.302665  1.693723\n",
      "      2   -1.706086 -1.159119\n",
      "      3   -0.134841  0.390528\n",
      "G2    1    0.166905  0.184502\n",
      "      2    0.807706  0.072960\n",
      "      3    0.638787  0.329646\n"
     ]
    }
   ],
   "source": [
    "# Index Levels\n",
    "outside = ['G1','G1','G1','G2','G2','G2']\n",
    "inside = [1,2,3,1,2,3]\n",
    "hier_index = list(zip(outside,inside))\n",
    "print(hier_index)\n",
    "print('--------------------------------')\n",
    "hier_index = pd.MultiIndex.from_tuples(hier_index)\n",
    "print(hier_index)\n",
    "print('--------------------------------')\n",
    "df = pd.DataFrame(np.random.randn(6,2),index=hier_index,columns=['A','B'])\n",
    "print(df)\n",
    "print('--------------------------------')\n",
    "print(df.loc['G1'])\n",
    "print('--------------------------------')\n",
    "print(df.loc['G1'].loc[1])\n",
    "print('--------------------------------')\n",
    "df.index.names = ['Group','Num']\n",
    "print(df)"
   ]
  },
  {
   "cell_type": "code",
   "execution_count": 12,
   "metadata": {},
   "outputs": [
    {
     "data": {
      "text/html": [
       "<div>\n",
       "<style scoped>\n",
       "    .dataframe tbody tr th:only-of-type {\n",
       "        vertical-align: middle;\n",
       "    }\n",
       "\n",
       "    .dataframe tbody tr th {\n",
       "        vertical-align: top;\n",
       "    }\n",
       "\n",
       "    .dataframe thead th {\n",
       "        text-align: right;\n",
       "    }\n",
       "</style>\n",
       "<table border=\"1\" class=\"dataframe\">\n",
       "  <thead>\n",
       "    <tr style=\"text-align: right;\">\n",
       "      <th></th>\n",
       "      <th>A</th>\n",
       "      <th>B</th>\n",
       "    </tr>\n",
       "    <tr>\n",
       "      <th>Num</th>\n",
       "      <th></th>\n",
       "      <th></th>\n",
       "    </tr>\n",
       "  </thead>\n",
       "  <tbody>\n",
       "    <tr>\n",
       "      <th>1</th>\n",
       "      <td>0.302665</td>\n",
       "      <td>1.693723</td>\n",
       "    </tr>\n",
       "    <tr>\n",
       "      <th>2</th>\n",
       "      <td>-1.706086</td>\n",
       "      <td>-1.159119</td>\n",
       "    </tr>\n",
       "    <tr>\n",
       "      <th>3</th>\n",
       "      <td>-0.134841</td>\n",
       "      <td>0.390528</td>\n",
       "    </tr>\n",
       "  </tbody>\n",
       "</table>\n",
       "</div>"
      ],
      "text/plain": [
       "            A         B\n",
       "Num                    \n",
       "1    0.302665  1.693723\n",
       "2   -1.706086 -1.159119\n",
       "3   -0.134841  0.390528"
      ]
     },
     "execution_count": 12,
     "metadata": {},
     "output_type": "execute_result"
    }
   ],
   "source": [
    "df.xs('G1')"
   ]
  },
  {
   "cell_type": "markdown",
   "metadata": {},
   "source": [
    "# Missing data"
   ]
  },
  {
   "cell_type": "code",
   "execution_count": 16,
   "metadata": {},
   "outputs": [
    {
     "name": "stdout",
     "output_type": "stream",
     "text": [
      "     A    B  C\n",
      "0  1.0  5.0  1\n",
      "1  2.0  NaN  2\n",
      "2  NaN  NaN  3\n",
      "--------------------------------\n",
      "     A    B  C\n",
      "0  1.0  5.0  1\n",
      "--------------------------------\n",
      "   C\n",
      "0  1\n",
      "1  2\n",
      "2  3\n",
      "--------------------------------\n",
      "     A    B  C\n",
      "0  1.0  5.0  1\n",
      "1  2.0  NaN  2\n",
      "--------------------------------\n",
      "            A           B  C\n",
      "0           1           5  1\n",
      "1           2  FILL VALUE  2\n",
      "2  FILL VALUE  FILL VALUE  3\n",
      "--------------------------------\n",
      "     A    B  C\n",
      "0  1.0  5.0  1\n",
      "1  2.0  5.0  2\n",
      "2  1.5  5.0  3\n",
      "--------------------------------\n"
     ]
    }
   ],
   "source": [
    "df = pd.DataFrame({'A':[1,2,np.nan],\n",
    "                  'B':[5,np.nan,np.nan],\n",
    "                  'C':[1,2,3]})\n",
    "print(df)\n",
    "print('--------------------------------')\n",
    "print(df.dropna())\n",
    "print('--------------------------------')\n",
    "print(df.dropna(axis=1))\n",
    "print('--------------------------------')\n",
    "print(df.dropna(thresh=2))\n",
    "print('--------------------------------')\n",
    "print(df.fillna(value='FILL VALUE'))\n",
    "print('--------------------------------')\n",
    "print(df.fillna(value=df.mean()))\n",
    "print('--------------------------------')\n"
   ]
  },
  {
   "cell_type": "markdown",
   "metadata": {},
   "source": [
    "# Group by"
   ]
  },
  {
   "cell_type": "code",
   "execution_count": 24,
   "metadata": {},
   "outputs": [
    {
     "name": "stdout",
     "output_type": "stream",
     "text": [
      "  Company   Person  Sales\n",
      "0    GOOG      Sam    200\n",
      "1    GOOG  Charlie    120\n",
      "2    MSFT      Amy    340\n",
      "3    MSFT  Vanessa    124\n",
      "4      FB     Carl    243\n",
      "5      FB    Sarah    350\n",
      "--------------------------------\n",
      "         Sales\n",
      "Company       \n",
      "FB       296.5\n",
      "GOOG     160.0\n",
      "MSFT     232.0\n",
      "--------------------------------\n",
      "          Person  Sales\n",
      "Company                \n",
      "FB          Carl    243\n",
      "GOOG     Charlie    120\n",
      "MSFT         Amy    124\n",
      "--------------------------------\n",
      "         Person  Sales\n",
      "Company               \n",
      "FB            2      2\n",
      "GOOG          2      2\n",
      "MSFT          2      2\n",
      "--------------------------------\n",
      "        Sales                                                        \n",
      "        count   mean         std    min     25%    50%     75%    max\n",
      "Company                                                              \n",
      "FB        2.0  296.5   75.660426  243.0  269.75  296.5  323.25  350.0\n",
      "GOOG      2.0  160.0   56.568542  120.0  140.00  160.0  180.00  200.0\n",
      "MSFT      2.0  232.0  152.735065  124.0  178.00  232.0  286.00  340.0\n",
      "--------------------------------\n",
      "Company              FB        GOOG        MSFT\n",
      "Sales count    2.000000    2.000000    2.000000\n",
      "      mean   296.500000  160.000000  232.000000\n",
      "      std     75.660426   56.568542  152.735065\n",
      "      min    243.000000  120.000000  124.000000\n",
      "      25%    269.750000  140.000000  178.000000\n",
      "      50%    296.500000  160.000000  232.000000\n",
      "      75%    323.250000  180.000000  286.000000\n",
      "      max    350.000000  200.000000  340.000000\n",
      "--------------------------------\n"
     ]
    }
   ],
   "source": [
    "df = pd.DataFrame({'Company':['GOOG','GOOG','MSFT','MSFT','FB','FB'],\n",
    "       'Person':['Sam','Charlie','Amy','Vanessa','Carl','Sarah'],\n",
    "       'Sales':[200,120,340,124,243,350]})\n",
    "\n",
    "print(df)\n",
    "print('--------------------------------')\n",
    "print(df.groupby('Company').mean())\n",
    "print('--------------------------------')\n",
    "print(df.groupby('Company').min())\n",
    "print('--------------------------------')\n",
    "print(df.groupby('Company').count())\n",
    "print('--------------------------------')\n",
    "print(df.groupby('Company').describe())\n",
    "print('--------------------------------')\n",
    "print(df.groupby('Company').describe().transpose())\n",
    "print('--------------------------------')"
   ]
  },
  {
   "cell_type": "markdown",
   "metadata": {},
   "source": [
    "# Merge, join and concatenate"
   ]
  },
  {
   "cell_type": "markdown",
   "metadata": {},
   "source": [
    "concatenate"
   ]
  },
  {
   "cell_type": "code",
   "execution_count": 29,
   "metadata": {},
   "outputs": [
    {
     "name": "stdout",
     "output_type": "stream",
     "text": [
      "    A   B   C   D\n",
      "0  A0  B0  C0  D0\n",
      "1  A1  B1  C1  D1\n",
      "2  A2  B2  C2  D2\n",
      "3  A3  B3  C3  D3\n",
      "--------------------------------\n",
      "    A   B   C   D\n",
      "4  A4  B4  C4  D4\n",
      "5  A5  B5  C5  D5\n",
      "6  A6  B6  C6  D6\n",
      "7  A7  B7  C7  D7\n",
      "--------------------------------\n",
      "      A    B    C    D\n",
      "8    A8   B8   C8   D8\n",
      "9    A9   B9   C9   D9\n",
      "10  A10  B10  C10  D10\n",
      "11  A11  B11  C11  D11\n",
      "--------------------------------\n",
      "      A    B    C    D\n",
      "0    A0   B0   C0   D0\n",
      "1    A1   B1   C1   D1\n",
      "2    A2   B2   C2   D2\n",
      "3    A3   B3   C3   D3\n",
      "4    A4   B4   C4   D4\n",
      "5    A5   B5   C5   D5\n",
      "6    A6   B6   C6   D6\n",
      "7    A7   B7   C7   D7\n",
      "8    A8   B8   C8   D8\n",
      "9    A9   B9   C9   D9\n",
      "10  A10  B10  C10  D10\n",
      "11  A11  B11  C11  D11\n",
      "--------------------------------\n",
      "      A    B    C    D    A    B    C    D    A    B    C    D\n",
      "0    A0   B0   C0   D0  NaN  NaN  NaN  NaN  NaN  NaN  NaN  NaN\n",
      "1    A1   B1   C1   D1  NaN  NaN  NaN  NaN  NaN  NaN  NaN  NaN\n",
      "2    A2   B2   C2   D2  NaN  NaN  NaN  NaN  NaN  NaN  NaN  NaN\n",
      "3    A3   B3   C3   D3  NaN  NaN  NaN  NaN  NaN  NaN  NaN  NaN\n",
      "4   NaN  NaN  NaN  NaN   A4   B4   C4   D4  NaN  NaN  NaN  NaN\n",
      "5   NaN  NaN  NaN  NaN   A5   B5   C5   D5  NaN  NaN  NaN  NaN\n",
      "6   NaN  NaN  NaN  NaN   A6   B6   C6   D6  NaN  NaN  NaN  NaN\n",
      "7   NaN  NaN  NaN  NaN   A7   B7   C7   D7  NaN  NaN  NaN  NaN\n",
      "8   NaN  NaN  NaN  NaN  NaN  NaN  NaN  NaN   A8   B8   C8   D8\n",
      "9   NaN  NaN  NaN  NaN  NaN  NaN  NaN  NaN   A9   B9   C9   D9\n",
      "10  NaN  NaN  NaN  NaN  NaN  NaN  NaN  NaN  A10  B10  C10  D10\n",
      "11  NaN  NaN  NaN  NaN  NaN  NaN  NaN  NaN  A11  B11  C11  D11\n",
      "--------------------------------\n"
     ]
    }
   ],
   "source": [
    "df1 = pd.DataFrame({'A': ['A0', 'A1', 'A2', 'A3'],\n",
    "                        'B': ['B0', 'B1', 'B2', 'B3'],\n",
    "                        'C': ['C0', 'C1', 'C2', 'C3'],\n",
    "                        'D': ['D0', 'D1', 'D2', 'D3']},\n",
    "                        index=[0, 1, 2, 3])\n",
    "\n",
    "df2 = pd.DataFrame({'A': ['A4', 'A5', 'A6', 'A7'],\n",
    "                        'B': ['B4', 'B5', 'B6', 'B7'],\n",
    "                        'C': ['C4', 'C5', 'C6', 'C7'],\n",
    "                        'D': ['D4', 'D5', 'D6', 'D7']},\n",
    "                         index=[4, 5, 6, 7]) \n",
    "\n",
    "df3 = pd.DataFrame({'A': ['A8', 'A9', 'A10', 'A11'],\n",
    "                        'B': ['B8', 'B9', 'B10', 'B11'],\n",
    "                        'C': ['C8', 'C9', 'C10', 'C11'],\n",
    "                        'D': ['D8', 'D9', 'D10', 'D11']},\n",
    "                        index=[8, 9, 10, 11])\n",
    "df1 = pd.DataFrame({'A': ['A0', 'A1', 'A2', 'A3'],\n",
    "                        'B': ['B0', 'B1', 'B2', 'B3'],\n",
    "                        'C': ['C0', 'C1', 'C2', 'C3'],\n",
    "                        'D': ['D0', 'D1', 'D2', 'D3']},\n",
    "                        index=[0, 1, 2, 3])\n",
    "\n",
    "df2 = pd.DataFrame({'A': ['A4', 'A5', 'A6', 'A7'],\n",
    "                        'B': ['B4', 'B5', 'B6', 'B7'],\n",
    "                        'C': ['C4', 'C5', 'C6', 'C7'],\n",
    "                        'D': ['D4', 'D5', 'D6', 'D7']},\n",
    "                         index=[4, 5, 6, 7]) \n",
    "\n",
    "df3 = pd.DataFrame({'A': ['A8', 'A9', 'A10', 'A11'],\n",
    "                        'B': ['B8', 'B9', 'B10', 'B11'],\n",
    "                        'C': ['C8', 'C9', 'C10', 'C11'],\n",
    "                        'D': ['D8', 'D9', 'D10', 'D11']},\n",
    "                        index=[8, 9, 10, 11])\n",
    "print(df1)\n",
    "print('--------------------------------')\n",
    "print(df2)\n",
    "print('--------------------------------')\n",
    "print(df3)\n",
    "print('--------------------------------')\n",
    "print(pd.concat([df1,df2,df3]))\n",
    "print('--------------------------------')\n",
    "print(pd.concat([df1,df2,df3],axis=1))\n",
    "print('--------------------------------')"
   ]
  },
  {
   "cell_type": "markdown",
   "metadata": {},
   "source": [
    "merge"
   ]
  },
  {
   "cell_type": "code",
   "execution_count": 31,
   "metadata": {},
   "outputs": [
    {
     "name": "stdout",
     "output_type": "stream",
     "text": [
      "  key   A   B\n",
      "0  K0  A0  B0\n",
      "1  K1  A1  B1\n",
      "2  K2  A2  B2\n",
      "3  K3  A3  B3\n",
      "--------------------------------\n",
      "  key   C   D\n",
      "0  K0  C0  D0\n",
      "1  K1  C1  D1\n",
      "2  K2  C2  D2\n",
      "3  K3  C3  D3\n",
      "--------------------------------\n",
      "  key   A   B   C   D\n",
      "0  K0  A0  B0  C0  D0\n",
      "1  K1  A1  B1  C1  D1\n",
      "2  K2  A2  B2  C2  D2\n",
      "3  K3  A3  B3  C3  D3\n",
      "--------------------------------\n"
     ]
    }
   ],
   "source": [
    "left = pd.DataFrame({'key': ['K0', 'K1', 'K2', 'K3'],\n",
    "                     'A': ['A0', 'A1', 'A2', 'A3'],\n",
    "                     'B': ['B0', 'B1', 'B2', 'B3']})\n",
    "   \n",
    "right = pd.DataFrame({'key': ['K0', 'K1', 'K2', 'K3'],\n",
    "                          'C': ['C0', 'C1', 'C2', 'C3'],\n",
    "                          'D': ['D0', 'D1', 'D2', 'D3']})    \n",
    "\n",
    "print(left)\n",
    "print('--------------------------------')\n",
    "print(right)\n",
    "print('--------------------------------')\n",
    "print(pd.merge(left,right,how='inner',on='key'))\n",
    "print('--------------------------------')"
   ]
  },
  {
   "cell_type": "code",
   "execution_count": 34,
   "metadata": {},
   "outputs": [
    {
     "name": "stdout",
     "output_type": "stream",
     "text": [
      "  key1 key2   A   B\n",
      "0   K0   K0  A0  B0\n",
      "1   K0   K1  A1  B1\n",
      "2   K1   K0  A2  B2\n",
      "3   K2   K1  A3  B3\n",
      "--------------------------------\n",
      "  key1 key2   C   D\n",
      "0   K0   K0  C0  D0\n",
      "1   K1   K0  C1  D1\n",
      "2   K1   K0  C2  D2\n",
      "3   K2   K0  C3  D3\n",
      "--------------------------------\n",
      "  key1 key2   A   B   C   D\n",
      "0   K0   K0  A0  B0  C0  D0\n",
      "1   K1   K0  A2  B2  C1  D1\n",
      "2   K1   K0  A2  B2  C2  D2\n",
      "--------------------------------\n",
      "  key1 key2    A    B    C    D\n",
      "0   K0   K0   A0   B0   C0   D0\n",
      "1   K0   K1   A1   B1  NaN  NaN\n",
      "2   K1   K0   A2   B2   C1   D1\n",
      "3   K1   K0   A2   B2   C2   D2\n",
      "4   K2   K1   A3   B3  NaN  NaN\n",
      "5   K2   K0  NaN  NaN   C3   D3\n",
      "--------------------------------\n",
      "  key1 key2    A    B   C   D\n",
      "0   K0   K0   A0   B0  C0  D0\n",
      "1   K1   K0   A2   B2  C1  D1\n",
      "2   K1   K0   A2   B2  C2  D2\n",
      "3   K2   K0  NaN  NaN  C3  D3\n",
      "--------------------------------\n",
      "  key1 key2   A   B    C    D\n",
      "0   K0   K0  A0  B0   C0   D0\n",
      "1   K0   K1  A1  B1  NaN  NaN\n",
      "2   K1   K0  A2  B2   C1   D1\n",
      "3   K1   K0  A2  B2   C2   D2\n",
      "4   K2   K1  A3  B3  NaN  NaN\n",
      "--------------------------------\n"
     ]
    }
   ],
   "source": [
    "left = pd.DataFrame({'key1': ['K0', 'K0', 'K1', 'K2'],\n",
    "                     'key2': ['K0', 'K1', 'K0', 'K1'],\n",
    "                        'A': ['A0', 'A1', 'A2', 'A3'],\n",
    "                        'B': ['B0', 'B1', 'B2', 'B3']})\n",
    "    \n",
    "right = pd.DataFrame({'key1': ['K0', 'K1', 'K1', 'K2'],\n",
    "                               'key2': ['K0', 'K0', 'K0', 'K0'],\n",
    "                                  'C': ['C0', 'C1', 'C2', 'C3'],\n",
    "                                  'D': ['D0', 'D1', 'D2', 'D3']})\n",
    "print(left)\n",
    "print('--------------------------------')\n",
    "print(right)\n",
    "print('--------------------------------')\n",
    "print(pd.merge(left, right, on=['key1', 'key2']))\n",
    "print('--------------------------------')\n",
    "print(pd.merge(left, right,how='outer', on=['key1', 'key2']))\n",
    "print('--------------------------------')\n",
    "print(pd.merge(left, right,how='right', on=['key1', 'key2']))\n",
    "print('--------------------------------')\n",
    "print(pd.merge(left, right,how='left', on=['key1', 'key2']))\n",
    "print('--------------------------------')"
   ]
  },
  {
   "cell_type": "markdown",
   "metadata": {},
   "source": [
    "join"
   ]
  },
  {
   "cell_type": "code",
   "execution_count": 35,
   "metadata": {},
   "outputs": [
    {
     "name": "stdout",
     "output_type": "stream",
     "text": [
      "     A   B\n",
      "K0  A0  B0\n",
      "K1  A1  B1\n",
      "K2  A2  B2\n",
      "--------------------------------\n",
      "     C   D\n",
      "K0  C0  D0\n",
      "K2  C2  D2\n",
      "K3  C3  D3\n",
      "--------------------------------\n",
      "     A   B    C    D\n",
      "K0  A0  B0   C0   D0\n",
      "K1  A1  B1  NaN  NaN\n",
      "K2  A2  B2   C2   D2\n",
      "--------------------------------\n",
      "      A    B    C    D\n",
      "K0   A0   B0   C0   D0\n",
      "K1   A1   B1  NaN  NaN\n",
      "K2   A2   B2   C2   D2\n",
      "K3  NaN  NaN   C3   D3\n",
      "--------------------------------\n"
     ]
    }
   ],
   "source": [
    "left = pd.DataFrame({'A': ['A0', 'A1', 'A2'],\n",
    "                     'B': ['B0', 'B1', 'B2']},\n",
    "                      index=['K0', 'K1', 'K2']) \n",
    "\n",
    "right = pd.DataFrame({'C': ['C0', 'C2', 'C3'],\n",
    "                    'D': ['D0', 'D2', 'D3']},\n",
    "                      index=['K0', 'K2', 'K3'])\n",
    "\n",
    "print(left)\n",
    "print('--------------------------------')\n",
    "print(right)\n",
    "print('--------------------------------')\n",
    "print(left.join(right))\n",
    "print('--------------------------------')\n",
    "print(left.join(right, how='outer'))\n",
    "print('--------------------------------')"
   ]
  },
  {
   "cell_type": "markdown",
   "metadata": {},
   "source": [
    "# Operations"
   ]
  },
  {
   "cell_type": "code",
   "execution_count": 43,
   "metadata": {},
   "outputs": [
    {
     "name": "stdout",
     "output_type": "stream",
     "text": [
      "   col1  col2 col3\n",
      "0     1   444  abc\n",
      "1     2   555  def\n",
      "2     3   666  ghi\n",
      "3     4   444  xyz\n",
      "--------------------------------\n",
      "[444 555 666]\n",
      "--------------------------------\n",
      "3\n",
      "--------------------------------\n",
      "444    2\n",
      "555    1\n",
      "666    1\n",
      "Name: col2, dtype: int64\n",
      "--------------------------------\n",
      "   col1  col2 col3\n",
      "3     4   444  xyz\n",
      "--------------------------------\n"
     ]
    }
   ],
   "source": [
    "df = pd.DataFrame({'col1':[1,2,3,4],'col2':[444,555,666,444],'col3':['abc','def','ghi','xyz']})\n",
    "print(df)\n",
    "print('--------------------------------')\n",
    "print(df['col2'].unique())\n",
    "print('--------------------------------')\n",
    "print(df['col2'].nunique())\n",
    "print('--------------------------------')\n",
    "print(df['col2'].value_counts())\n",
    "print('--------------------------------')\n",
    "print(df[(df['col1']>2) & (df['col2']==444)])\n",
    "print('--------------------------------')\n"
   ]
  },
  {
   "cell_type": "code",
   "execution_count": 44,
   "metadata": {},
   "outputs": [
    {
     "name": "stdout",
     "output_type": "stream",
     "text": [
      "   col1  col2 col3\n",
      "0     1   444  abc\n",
      "1     2   555  def\n",
      "2     3   666  ghi\n",
      "3     4   444  xyz\n",
      "--------------------------------\n",
      "0    2\n",
      "1    4\n",
      "2    6\n",
      "3    8\n",
      "Name: col1, dtype: int64\n",
      "--------------------------------\n",
      "0    3\n",
      "1    3\n",
      "2    3\n",
      "3    3\n",
      "Name: col3, dtype: int64\n",
      "--------------------------------\n",
      "   col2 col3\n",
      "0   444  abc\n",
      "1   555  def\n",
      "2   666  ghi\n",
      "3   444  xyz\n",
      "--------------------------------\n",
      "   col2 col3\n",
      "0   444  abc\n",
      "3   444  xyz\n",
      "1   555  def\n",
      "2   666  ghi\n",
      "--------------------------------\n",
      "    col2   col3\n",
      "0  False  False\n",
      "1  False  False\n",
      "2  False  False\n",
      "3  False  False\n",
      "--------------------------------\n"
     ]
    }
   ],
   "source": [
    "def times2(x):\n",
    "    return x*2\n",
    "\n",
    "print(df)\n",
    "print('--------------------------------')\n",
    "print(df['col1'].apply(times2))\n",
    "print('--------------------------------')\n",
    "print(df['col3'].apply(len))\n",
    "print('--------------------------------')\n",
    "del df['col1']\n",
    "print(df)\n",
    "print('--------------------------------')\n",
    "print(df.sort_values(by='col2'))\n",
    "print('--------------------------------')\n",
    "print(df.isnull())\n",
    "print('--------------------------------')"
   ]
  },
  {
   "cell_type": "code",
   "execution_count": 45,
   "metadata": {},
   "outputs": [
    {
     "name": "stdout",
     "output_type": "stream",
     "text": [
      "   col1   col2 col3\n",
      "0   1.0    NaN  abc\n",
      "1   2.0  555.0  def\n",
      "2   3.0  666.0  ghi\n",
      "3   NaN  444.0  xyz\n",
      "--------------------------------\n",
      "   col1  col2 col3\n",
      "0     1  FILL  abc\n",
      "1     2   555  def\n",
      "2     3   666  ghi\n",
      "3  FILL   444  xyz\n",
      "--------------------------------\n"
     ]
    }
   ],
   "source": [
    "df = pd.DataFrame({'col1':[1,2,3,np.nan],\n",
    "                   'col2':[np.nan,555,666,444],\n",
    "                   'col3':['abc','def','ghi','xyz']})\n",
    "\n",
    "print(df)\n",
    "print('--------------------------------')\n",
    "print(df.fillna('FILL'))\n",
    "print('--------------------------------')\n"
   ]
  },
  {
   "cell_type": "code",
   "execution_count": 46,
   "metadata": {},
   "outputs": [
    {
     "name": "stdout",
     "output_type": "stream",
     "text": [
      "     A    B  C  D\n",
      "0  foo  one  x  1\n",
      "1  foo  one  y  3\n",
      "2  foo  two  x  2\n",
      "3  bar  two  y  5\n",
      "4  bar  one  x  4\n",
      "5  bar  one  y  1\n",
      "--------------------------------\n",
      "C          x    y\n",
      "A   B            \n",
      "bar one  4.0  1.0\n",
      "    two  NaN  5.0\n",
      "foo one  1.0  3.0\n",
      "    two  2.0  NaN\n",
      "--------------------------------\n"
     ]
    }
   ],
   "source": [
    "data = {'A':['foo','foo','foo','bar','bar','bar'],\n",
    "     'B':['one','one','two','two','one','one'],\n",
    "       'C':['x','y','x','y','x','y'],\n",
    "       'D':[1,3,2,5,4,1]}\n",
    "\n",
    "df = pd.DataFrame(data)\n",
    "print(df)\n",
    "print('--------------------------------')\n",
    "print(df.pivot_table(values='D',index=['A', 'B'],columns=['C']))\n",
    "print('--------------------------------')"
   ]
  },
  {
   "cell_type": "code",
   "execution_count": null,
   "metadata": {},
   "outputs": [],
   "source": []
  }
 ],
 "metadata": {
  "kernelspec": {
   "display_name": "Python 3",
   "language": "python",
   "name": "python3"
  },
  "language_info": {
   "codemirror_mode": {
    "name": "ipython",
    "version": 3
   },
   "file_extension": ".py",
   "mimetype": "text/x-python",
   "name": "python",
   "nbconvert_exporter": "python",
   "pygments_lexer": "ipython3",
   "version": "3.6.9"
  }
 },
 "nbformat": 4,
 "nbformat_minor": 2
}
