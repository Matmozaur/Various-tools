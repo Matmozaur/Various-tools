{
 "cells": [
  {
   "cell_type": "markdown",
   "id": "d4a02fdf",
   "metadata": {},
   "source": [
    "https://towardsdatascience.com/supply-planning-using-linear-programming-with-python-bff2401bf270"
   ]
  },
  {
   "cell_type": "code",
   "execution_count": 56,
   "id": "792674be",
   "metadata": {},
   "outputs": [],
   "source": [
    "from pulp import  LpProblem, LpVariable, LpMinimize, lpSum, LpMinimize, LpStatus, value\n",
    "import pandas as pd\n",
    "import numpy as np"
   ]
  },
  {
   "cell_type": "code",
   "execution_count": 7,
   "id": "333c8cde",
   "metadata": {},
   "outputs": [],
   "source": [
    "# 1. Initiliaze Class\n",
    "model = LpProblem(\"Transhipment_Problem\", LpMinimize)\n"
   ]
  },
  {
   "cell_type": "code",
   "execution_count": 8,
   "id": "1e273ffe",
   "metadata": {},
   "outputs": [],
   "source": [
    "\n",
    "# 2. Define Decision Variables\n",
    "# Inbound Flows\n",
    "I = LpVariable.dicts(\"I\", [(i+1,j+1) for i in range(2) for j in range(2)],\n",
    "                     lowBound=0, upBound=None, cat='Integer') # I(i,j) from plant i for platform j\n",
    "# Outbound Flows\n",
    "O = LpVariable.dicts(\"O\", [(i+1,j+1) for i in range(2) for j in range(200)],\n",
    "                     lowBound=0, upBound=None, cat='Integer') # O(i,j) from platform i for customer j\n"
   ]
  },
  {
   "cell_type": "code",
   "execution_count": 32,
   "id": "8ae00f11",
   "metadata": {},
   "outputs": [],
   "source": [
    "df_inbound = pd.read_csv('df_inbound_price.csv')"
   ]
  },
  {
   "cell_type": "code",
   "execution_count": 37,
   "id": "af72b38f",
   "metadata": {},
   "outputs": [],
   "source": [
    "df_outbound = pd.read_csv('df_outboundprice.csv')\n",
    "df_outbound.drop(columns=['Unnamed: 0'], inplace=True)"
   ]
  },
  {
   "cell_type": "code",
   "execution_count": 38,
   "id": "27657331",
   "metadata": {},
   "outputs": [],
   "source": [
    "# 3. Define Objective Function\n",
    "# Total Transportation Cost\n",
    "model += lpSum([df_inbound.iloc[i,j+1] * I[i+1,j+1] for i in range(2) for j in range(2)]) + lpSum([df_outbound.iloc[i,j+1] * O[i+1,j+1] for i in range(2) for j in range(200)]) \n"
   ]
  },
  {
   "cell_type": "code",
   "execution_count": 50,
   "id": "0a535fc1",
   "metadata": {},
   "outputs": [],
   "source": [
    "data = np.random.randint(1, 11, size=(200, 1))\n",
    "df_demand = pd.DataFrame(data, columns=['DEMAND'])"
   ]
  },
  {
   "cell_type": "code",
   "execution_count": 54,
   "id": "1e498f97",
   "metadata": {},
   "outputs": [],
   "source": [
    "# 4. Define Constraints\n",
    "# Max capacity for plants\n",
    "# Supply >= demand per store\n",
    "for j in range(200):\n",
    "    model += lpSum([O[i+1, j+1] for i in range(2)]) >= df_demand.loc[j,'DEMAND']\n",
    "# Conservation of the flow in the local DC (X-Docking Platform)\n",
    "for p in range(2):\n",
    "    model += lpSum([I[i+1, p+1] for i in range(2)]) == lpSum([O[p+1, j+1] for j in range(200)])\n"
   ]
  },
  {
   "cell_type": "code",
   "execution_count": 57,
   "id": "ba9041e5",
   "metadata": {},
   "outputs": [
    {
     "name": "stdout",
     "output_type": "stream",
     "text": [
      "Welcome to the CBC MILP Solver \n",
      "Version: 2.10.3 \n",
      "Build Date: Dec 15 2019 \n",
      "\n",
      "command line - /home/mdob/playground/ADDITIONAL/Various-tools-and-notes/vs_scripts3.12/lib/python3.10/site-packages/pulp/solverdir/cbc/linux/64/cbc /tmp/aa280f9c4afd412ba261dd40718fc90f-pulp.mps -timeMode elapsed -branch -printingOptions all -solution /tmp/aa280f9c4afd412ba261dd40718fc90f-pulp.sol (default strategy 1)\n",
      "At line 2 NAME          MODEL\n",
      "At line 3 ROWS\n",
      "At line 207 COLUMNS\n",
      "At line 2224 RHS\n",
      "At line 2427 BOUNDS\n",
      "At line 2832 ENDATA\n",
      "Problem MODEL has 202 rows, 404 columns and 804 elements\n",
      "Coin0008I MODEL read with 0 errors\n",
      "Option for timeMode changed from cpu to elapsed\n",
      "Continuous objective value is 7228.74 - 0.00 seconds\n",
      "Cgl0004I processed model has 0 rows, 0 columns (0 integer (0 of which binary)) and 0 elements\n",
      "Cbc3007W No integer variables - nothing to do\n",
      "Cuts at root node changed objective from 7228.74 to -1.79769e+308\n",
      "Probing was tried 0 times and created 0 cuts of which 0 were active after adding rounds of cuts (0.000 seconds)\n",
      "Gomory was tried 0 times and created 0 cuts of which 0 were active after adding rounds of cuts (0.000 seconds)\n",
      "Knapsack was tried 0 times and created 0 cuts of which 0 were active after adding rounds of cuts (0.000 seconds)\n",
      "Clique was tried 0 times and created 0 cuts of which 0 were active after adding rounds of cuts (0.000 seconds)\n",
      "MixedIntegerRounding2 was tried 0 times and created 0 cuts of which 0 were active after adding rounds of cuts (0.000 seconds)\n",
      "FlowCover was tried 0 times and created 0 cuts of which 0 were active after adding rounds of cuts (0.000 seconds)\n",
      "TwoMirCuts was tried 0 times and created 0 cuts of which 0 were active after adding rounds of cuts (0.000 seconds)\n",
      "ZeroHalf was tried 0 times and created 0 cuts of which 0 were active after adding rounds of cuts (0.000 seconds)\n",
      "\n",
      "Result - Optimal solution found\n",
      "\n",
      "Objective value:                7228.74000000\n",
      "Enumerated nodes:               0\n",
      "Total iterations:               0\n",
      "Time (CPU seconds):             0.01\n",
      "Time (Wallclock seconds):       0.01\n",
      "\n",
      "Option for printingOptions changed from normal to all\n",
      "Total time (CPU seconds):       0.01   (Wallclock seconds):       0.01\n",
      "\n",
      "Optimal\n",
      "Objective: z* = 7228.739999999999\n"
     ]
    }
   ],
   "source": [
    "# Solve Model\n",
    "status = model.solve()\n",
    "print(LpStatus[status])\n",
    "print(\"Objective: z* = {}\".format(\n",
    "    value(model.objective)))\n",
    "\n",
    "# Matrix result\n",
    "inbound, outbound = np.zeros([2,2]), np.zeros([2,200])\n",
    "for i in range(2):\n",
    "    for j in range(2):\n",
    "#         print(I[i+1, j+1].varValue, I[i+1, j+1].name)\n",
    "        inbound[i, j] = I[i+1, j+1].varValue\n",
    "for i in range(2):\n",
    "    for j in range(200):\n",
    "#         print(O[i+1, j+1].varValue, O[i+1, j+1].name)\n",
    "        outbound[i, j] = O[i+1, j+1].varValue"
   ]
  },
  {
   "cell_type": "code",
   "execution_count": 58,
   "id": "7df7bd2c",
   "metadata": {},
   "outputs": [
    {
     "data": {
      "text/plain": [
       "array([[  0., 197.],\n",
       "       [883.,   0.]])"
      ]
     },
     "execution_count": 58,
     "metadata": {},
     "output_type": "execute_result"
    }
   ],
   "source": [
    "inbound"
   ]
  },
  {
   "cell_type": "code",
   "execution_count": 59,
   "id": "b3879f07",
   "metadata": {},
   "outputs": [
    {
     "data": {
      "text/plain": [
       "array([[ 3.,  8.,  1.,  9.,  4.,  1.,  0.,  9., 10.,  0.,  9.,  4.,  6.,\n",
       "         0.,  0.,  8., 10.,  2., 10.,  5.,  5.,  6., 10.,  2.,  7.,  5.,\n",
       "         1.,  4.,  0.,  5.,  2.,  8.,  5.,  8.,  0.,  6.,  7.,  1.,  1.,\n",
       "         5.,  0.,  8.,  9.,  1.,  9.,  1.,  7.,  2.,  1.,  6.,  5.,  9.,\n",
       "         1.,  1., 10., 10.,  4.,  8.,  4., 10.,  9.,  6.,  9.,  2., 10.,\n",
       "         0.,  8.,  8.,  0.,  4.,  7.,  8.,  0.,  1.,  1.,  1.,  6.,  0.,\n",
       "         7.,  0.,  3.,  8.,  1., 10.,  8.,  0.,  3., 10.,  6.,  0.,  9.,\n",
       "         1.,  4.,  9.,  0.,  0.,  2.,  8.,  4.,  4., 10.,  0.,  9.,  0.,\n",
       "        10.,  0.,  4.,  1.,  2., 10.,  3.,  2.,  2.,  4.,  3.,  2.,  1.,\n",
       "         0.,  6.,  0.,  2.,  7.,  5.,  2.,  6.,  9.,  9.,  7.,  7.,  0.,\n",
       "         6.,  4.,  4.,  7.,  5.,  0.,  5.,  1.,  5.,  0.,  7.,  3.,  0.,\n",
       "         5.,  2.,  1.,  0.,  1.,  5.,  5.,  0.,  0.,  0.,  8.,  6.,  4.,\n",
       "         8.,  1.,  0.,  6.,  7.,  4.,  0.,  0.,  6.,  4.,  0.,  8.,  3.,\n",
       "         8.,  8.,  4.,  9.,  6.,  1.,  6., 10.,  4.,  3.,  4.,  6.,  5.,\n",
       "        10.,  5.,  2.,  8.,  7.,  8.,  0.,  7.,  7.,  0.,  4.,  2.,  4.,\n",
       "         4.,  8.,  0.,  9.,  0.],\n",
       "       [ 0.,  0.,  0.,  0.,  0.,  0.,  1.,  0.,  0.,  2.,  0.,  0.,  0.,\n",
       "         4.,  9.,  0.,  0.,  0.,  0.,  0.,  0.,  0.,  0.,  0.,  0.,  0.,\n",
       "         0.,  0.,  7.,  0.,  0.,  0.,  0.,  0.,  2.,  0.,  0.,  0.,  0.,\n",
       "         0.,  8.,  0.,  0.,  0.,  0.,  0.,  0.,  0.,  0.,  0.,  0.,  0.,\n",
       "         0.,  0.,  0.,  0.,  0.,  0.,  0.,  0.,  0.,  0.,  0.,  0.,  0.,\n",
       "         7.,  0.,  0.,  2.,  0.,  0.,  0.,  2.,  0.,  0.,  0.,  0.,  9.,\n",
       "         0.,  2.,  0.,  0.,  0.,  0.,  0.,  6.,  0.,  0.,  0.,  8.,  0.,\n",
       "         0.,  0.,  0.,  5., 10.,  0.,  0.,  0.,  0.,  0.,  3.,  0.,  6.,\n",
       "         0.,  8.,  0.,  0.,  0.,  0.,  0.,  0.,  0.,  0.,  0.,  0.,  0.,\n",
       "         3.,  0.,  6.,  0.,  0.,  0.,  0.,  0.,  0.,  0.,  0.,  0.,  5.,\n",
       "         0.,  0.,  0.,  0.,  0.,  2.,  0.,  0.,  0.,  3.,  0.,  0.,  5.,\n",
       "         0.,  0.,  0., 10.,  0.,  0.,  0.,  1.,  4., 10.,  0.,  0.,  0.,\n",
       "         0.,  0.,  2.,  0.,  0.,  0.,  5., 10.,  0.,  0.,  8.,  0.,  0.,\n",
       "         0.,  0.,  0.,  0.,  0.,  0.,  0.,  0.,  0.,  0.,  0.,  0.,  0.,\n",
       "         0.,  0.,  0.,  0.,  0.,  0.,  9.,  0.,  0.,  4.,  0.,  0.,  0.,\n",
       "         0.,  0.,  7.,  0.,  2.]])"
      ]
     },
     "execution_count": 59,
     "metadata": {},
     "output_type": "execute_result"
    }
   ],
   "source": [
    "outbound"
   ]
  },
  {
   "cell_type": "code",
   "execution_count": null,
   "id": "29f5f5a1",
   "metadata": {},
   "outputs": [],
   "source": []
  }
 ],
 "metadata": {
  "kernelspec": {
   "display_name": "vs_scripts3.12",
   "language": "python",
   "name": "python3"
  },
  "language_info": {
   "codemirror_mode": {
    "name": "ipython",
    "version": 3
   },
   "file_extension": ".py",
   "mimetype": "text/x-python",
   "name": "python",
   "nbconvert_exporter": "python",
   "pygments_lexer": "ipython3",
   "version": "3.10.12"
  }
 },
 "nbformat": 4,
 "nbformat_minor": 5
}
